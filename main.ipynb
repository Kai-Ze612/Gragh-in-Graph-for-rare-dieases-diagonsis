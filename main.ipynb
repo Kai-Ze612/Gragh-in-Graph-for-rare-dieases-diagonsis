{
 "cells": [
  {
   "cell_type": "code",
   "execution_count": 7,
   "metadata": {},
   "outputs": [],
   "source": [
    "import torch\n",
    "import torch.nn as nn\n",
    "import numpy as np\n",
    "import matplotlib.pyplot as plt\n",
    "from sklearn.metrics import f1_score\n",
    "from torch.utils.data import DataLoader, TensorDataset\n",
    "import pytorch_lightning as pl\n",
    "import os\n",
    "import pickle\n",
    "from typing import List, Tuple, Dict\n",
    "import logging\n",
    "from tqdm import tqdm\n",
    "from torch_geometric.nn import GCNConv\n",
    "import torch_geometric\n",
    "from joblib import Parallel, delayed\n"
   ]
  },
  {
   "cell_type": "code",
   "execution_count": 8,
   "metadata": {},
   "outputs": [],
   "source": [
    "device = torch.device(\"cpu\")"
   ]
  },
  {
   "cell_type": "code",
   "execution_count": 9,
   "metadata": {},
   "outputs": [
    {
     "name": "stderr",
     "output_type": "stream",
     "text": [
      "/tmp/ipykernel_21123/1256421869.py:2: FutureWarning: You are using `torch.load` with `weights_only=False` (the current default value), which uses the default pickle module implicitly. It is possible to construct malicious pickle data which will execute arbitrary code during unpickling (See https://github.com/pytorch/pytorch/blob/main/SECURITY.md#untrusted-models for more details). In a future release, the default value for `weights_only` will be flipped to `True`. This limits the functions that could be executed during unpickling. Arbitrary objects will no longer be allowed to be loaded via this mode unless they are explicitly allowlisted by the user via `torch.serialization.add_safe_globals`. We recommend you start setting `weights_only=True` for any use case where you don't have full control of the loaded file. Please open an issue on GitHub for any issues related to this experimental feature.\n",
      "  node_embeddings = torch.load('./Graph Outputs/node_embeddings_initial.pt')\n"
     ]
    }
   ],
   "source": [
    "## Loading node embedding data\n",
    "node_embeddings = torch.load('./Graph Outputs/node_embeddings_initial.pt')\n",
    "node_embeddings = node_embeddings.to(device)"
   ]
  },
  {
   "cell_type": "code",
   "execution_count": 10,
   "metadata": {},
   "outputs": [],
   "source": [
    "## Load Patient Subgraph Data\n",
    "with open('./Graph Outputs/train_pg_subgraph.pkl', 'rb') as f:\n",
    "    train_subgraphs = pickle.load(f)\n",
    "with open('./Graph Outputs/val_pg_subgraph.pkl', 'rb') as f:\n",
    "    val_subgraphs = pickle.load(f)"
   ]
  },
  {
   "cell_type": "code",
   "execution_count": 11,
   "metadata": {},
   "outputs": [],
   "source": [
    "for subgraph in train_subgraphs:\n",
    "    global_node_ids = [int(key) for key in subgraph.node_mapping.keys()]\n",
    "    subgraph.x = node_embeddings[global_node_ids]\n",
    "    del subgraph.node_mapping  # Remove node_mapping from Data object\n",
    "\n",
    "for subgraph in val_subgraphs:\n",
    "    global_node_ids = [int(key) for key in subgraph.node_mapping.keys()]\n",
    "    subgraph.x = node_embeddings[global_node_ids]\n",
    "    del subgraph.node_mapping"
   ]
  },
  {
   "cell_type": "code",
   "execution_count": 21,
   "metadata": {},
   "outputs": [],
   "source": [
    "import torch.nn as nn\n",
    "import torch.nn.functional as F\n",
    "import pytorch_lightning as pl\n",
    "from torch_geometric.nn import GCNConv, global_mean_pool\n",
    "\n",
    "class PopulationLevelGraph(pl.LightningModule):\n",
    "    def __init__(self, embedding_dim, num_patients, node_embeddings):\n",
    "        super().__init__()\n",
    "        self.embedding_dim = embedding_dim\n",
    "        self.num_patients = num_patients\n",
    "        self.node_embeddings = node_embeddings\n",
    "\n",
    "        # GNN layers to process patient-specific subgraphs\n",
    "        self.conv1 = GCNConv(embedding_dim, 128)\n",
    "        self.conv2 = GCNConv(128, embedding_dim)\n",
    "\n",
    "        # MLP to learn patient representations\n",
    "        self.mlp = nn.Sequential(\n",
    "            nn.Linear(embedding_dim, 128),\n",
    "            nn.ReLU(),\n",
    "            nn.Linear(128, embedding_dim),\n",
    "        )\n",
    "\n",
    "    def forward(self, data):\n",
    "        # Ensure tensors are on the correct device\n",
    "        device = self.node_embeddings.device\n",
    "        x = data.x.to(device)\n",
    "        edge_index = data.edge_index.to(device)\n",
    "\n",
    "        # Apply GNN layers\n",
    "        x = self.conv1(x, edge_index).relu()\n",
    "        x = self.conv2(x, edge_index)\n",
    "\n",
    "        # Aggregate node features to create graph-level representation\n",
    "        patient_rep = global_mean_pool(x, data.batch)\n",
    "        return self.mlp(patient_rep)\n",
    "\n",
    "    def compute_population_graph(self, patient_representations):\n",
    "        # Compute pairwise similarities between patient representations\n",
    "        latent_adj_matrix = torch.sigmoid(-torch.cdist(patient_representations, patient_representations, p=2))\n",
    "        return latent_adj_matrix\n",
    "\n",
    "    def compute_similarity_loss(self, patient_representations):\n",
    "        # Encourage adjacency matrix to reflect similarity\n",
    "        latent_adj_matrix = self.compute_population_graph(patient_representations)\n",
    "        similarity_matrix = torch.mm(patient_representations, patient_representations.t())\n",
    "        return F.mse_loss(latent_adj_matrix, torch.sigmoid(similarity_matrix))\n",
    "\n",
    "    def compute_sparsity_loss(self, latent_adj_matrix):\n",
    "        # Penalize non-zero elements to encourage sparsity\n",
    "        return latent_adj_matrix.sum() * 1e-3\n",
    "\n",
    "    def training_step(self, batch, batch_idx):\n",
    "        # Move batch to the correct device\n",
    "        batch = batch.to(self.node_embeddings.device)\n",
    "\n",
    "        # Generate patient representations\n",
    "        patient_representations = self.forward(batch)\n",
    "\n",
    "        # Compute adjacency matrix\n",
    "        latent_adj_matrix = self.compute_population_graph(patient_representations)\n",
    "\n",
    "        # Compute losses\n",
    "        similarity_loss = self.compute_similarity_loss(patient_representations)\n",
    "        sparsity_loss = self.compute_sparsity_loss(latent_adj_matrix)\n",
    "\n",
    "        # Total loss\n",
    "        total_loss = similarity_loss + sparsity_loss\n",
    "        self.log(\"train_loss\", total_loss)\n",
    "        return total_loss\n",
    "\n",
    "    def validation_step(self, batch, batch_idx):\n",
    "        # Move batch to the correct device\n",
    "        batch = batch.to(self.node_embeddings.device)\n",
    "    \n",
    "        # Generate patient representations\n",
    "        patient_representations = self.forward(batch)\n",
    "    \n",
    "        # Compute adjacency matrix\n",
    "        latent_adj_matrix = self.compute_population_graph(patient_representations)\n",
    "    \n",
    "        # Compute losses\n",
    "        similarity_loss = self.compute_similarity_loss(patient_representations)\n",
    "        sparsity_loss = self.compute_sparsity_loss(latent_adj_matrix)\n",
    "    \n",
    "        # Total loss\n",
    "        val_loss = similarity_loss + sparsity_loss\n",
    "        self.log(\"val_loss\", val_loss, prog_bar=True)  # Log val_loss for monitoring\n",
    "        return val_loss    \n",
    "    \n",
    "    def configure_optimizers(self):\n",
    "        return torch.optim.Adam(self.parameters(), lr=0.001)\n",
    "\n",
    "\n"
   ]
  },
  {
   "cell_type": "code",
   "execution_count": 22,
   "metadata": {},
   "outputs": [
    {
     "name": "stderr",
     "output_type": "stream",
     "text": [
      "GPU available: True (cuda), used: False\n",
      "TPU available: False, using: 0 TPU cores\n",
      "HPU available: False, using: 0 HPUs\n",
      "\n",
      "  | Name  | Type       | Params | Mode \n",
      "---------------------------------------------\n",
      "0 | conv1 | GCNConv    | 32.9 K | train\n",
      "1 | conv2 | GCNConv    | 33.0 K | train\n",
      "2 | mlp   | Sequential | 65.9 K | train\n",
      "---------------------------------------------\n",
      "131 K     Trainable params\n",
      "0         Non-trainable params\n",
      "131 K     Total params\n",
      "0.527     Total estimated model params size (MB)\n",
      "10        Modules in train mode\n",
      "0         Modules in eval mode\n"
     ]
    },
    {
     "data": {
      "application/vnd.jupyter.widget-view+json": {
       "model_id": "8f33c2b3be544b1eba26e735e4034de9",
       "version_major": 2,
       "version_minor": 0
      },
      "text/plain": [
       "Training: |          | 0/? [00:00<?, ?it/s]"
      ]
     },
     "metadata": {},
     "output_type": "display_data"
    },
    {
     "name": "stderr",
     "output_type": "stream",
     "text": [
      "`Trainer.fit` stopped: `max_epochs=10` reached.\n"
     ]
    }
   ],
   "source": [
    "from torch_geometric.loader import DataLoader\n",
    "\n",
    "train_loader = DataLoader(\n",
    "    train_subgraphs,\n",
    "    batch_size=128,\n",
    "    shuffle=True,\n",
    ")\n",
    "\n",
    "val_loader = DataLoader(\n",
    "    val_subgraphs,\n",
    "    batch_size=128,\n",
    "    shuffle=False,\n",
    ")\n",
    "\n",
    "model = PopulationLevelGraph(\n",
    "    embedding_dim=node_embeddings.size(1),\n",
    "    num_patients=len(train_subgraphs),\n",
    "    node_embeddings=node_embeddings\n",
    ")\n",
    "\n",
    "trainer = pl.Trainer(max_epochs=10, accelerator=\"cpu\", devices='auto')\n",
    "trainer.fit(model, train_loader, val_loader)"
   ]
  },
  {
   "cell_type": "code",
   "execution_count": 14,
   "metadata": {},
   "outputs": [],
   "source": [
    "# # Initialize model\n",
    "# num_patients = len(train_subgraphs)  # Each subgraph corresponds to a patient\n",
    "# embedding_dim = node_embeddings.size(1)\n",
    "# model = PopulationLevelGraph(embedding_dim, num_patients)\n",
    "\n",
    "# # Define trainer\n",
    "# from pytorch_lightning import Trainer\n",
    "# trainer = Trainer(max_epochs=50, accelerator=\"gpu\", devices=\"auto\")\n",
    "\n",
    "# # Train the model\n",
    "# trainer.fit(model, train_loader, val_loader)\n"
   ]
  }
 ],
 "metadata": {
  "kernelspec": {
   "display_name": "base",
   "language": "python",
   "name": "python3"
  },
  "language_info": {
   "codemirror_mode": {
    "name": "ipython",
    "version": 3
   },
   "file_extension": ".py",
   "mimetype": "text/x-python",
   "name": "python",
   "nbconvert_exporter": "python",
   "pygments_lexer": "ipython3",
   "version": "3.11.7"
  }
 },
 "nbformat": 4,
 "nbformat_minor": 2
}
