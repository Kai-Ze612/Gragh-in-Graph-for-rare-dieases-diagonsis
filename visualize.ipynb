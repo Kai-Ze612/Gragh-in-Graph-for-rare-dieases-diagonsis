{
 "cells": [
  {
   "cell_type": "code",
   "outputs": [
    {
     "name": "stdout",
     "output_type": "stream",
     "text": [
      "Interactive graph with legend saved to: graph_0_with_legend_.html\n",
      "Interactive graph with legend saved to: graph_1_with_legend_.html\n",
      "Interactive graph with legend saved to: graph_2_with_legend_.html\n",
      "Interactive graph with legend saved to: graph_3_with_legend_.html\n",
      "Interactive graph with legend saved to: graph_4_with_legend_.html\n"
     ]
    }
   ],
   "source": [
    "from pyvis.network import Network\n",
    "import networkx as nx\n",
    "import pickle\n",
    "for i in range(5):\n",
    "    # Load the graph\n",
    "    with open(\"./Graph Outputs/val_nx_subgraph.pkl\", \"rb\") as f:\n",
    "        graph = pickle.load(f)[i]  # Extract the first 5 graph\n",
    "    \n",
    "\n",
    "    net = Network(height=\"800px\", width=\"100%\", bgcolor=\"white\", font_color=\"black\", notebook=False, select_menu=True, filter_menu=True)\n",
    "    \n",
    "    node_colors = {\n",
    "        'gene/protein': 'goldenrod',\n",
    "        'disease': 'red',\n",
    "        'effect/phenotype': 'purple',\n",
    "        'anatomy': 'blue'\n",
    "    }\n",
    "    edge_colors = {\n",
    "        'disease_phenotype_positive': 'green',\n",
    "        'phenotype_phenotype': 'orange',\n",
    "        'default': 'gray'\n",
    "    }\n",
    "    \n",
    "    # Add nodes with color by type\n",
    "    for node, attrs in graph.nodes(data=True):\n",
    "        node_type = attrs.get('type', 'unknown')\n",
    "        color = node_colors.get(node_type, 'gray')\n",
    "        hover_info = f\"Node ID: {node}<br>Type: {node_type}<br>Name: {attrs.get('name', 'N/A')}<br>Source: {attrs.get('source', 'N/A')}\"\n",
    "        net.add_node(node, label=attrs.get('name', str(node)), title=hover_info, color=color)\n",
    "    \n",
    "    # Add edges with color by relation\n",
    "    for source, target, attrs in graph.edges(data=True):\n",
    "        relation = attrs.get('relation', 'default')\n",
    "        color = edge_colors.get(relation, edge_colors['default'])\n",
    "        hover_info = f\"Relation: {relation}<br>Display Relation: {attrs.get('display_relation', 'N/A')}\"\n",
    "        net.add_edge(source, target, title=hover_info, color=color)\n",
    "    \n",
    "    # Enable physics for dynamic interactions\n",
    "    net.toggle_physics(True)\n",
    "    net.show_buttons(filter_=['physics'])\n",
    "    # Save the interactive graph\n",
    "    output_file = f\"graph_{i}_with_legend_.html\"\n",
    "    net.save_graph(output_file)\n",
    "    \n",
    "    # Add custom legend overlay with HTML\n",
    "    custom_legend = \"\"\"\n",
    "    <div style='position: absolute; bottom: 10px; left: 10px; background-color: white; \n",
    "                border: 1px solid black; padding: 10px; z-index: 1000; font-family: Arial; font-size: 13px;'>\n",
    "        <b>Legend:</b><br>\n",
    "        <div style='color: goldenrod;'>● Gene/Protein</div>\n",
    "        <div style='color: red;'>● Disease</div>\n",
    "        <div style='color: purple;'>● Effect/Phenotype</div>\n",
    "        <div style='color: blue;'>● Anatomy</div>\n",
    "        <hr>\n",
    "        <b>Edge Types:</b><br>\n",
    "        <div style='color: green;'>━━ Disease-Phenotype Positive</div>\n",
    "        <div style='color: orange;'>━━ Phenotype-Phenotype</div>\n",
    "        <div style='color: gray;'>━━ Default</div>\n",
    "    </div>\n",
    "    \"\"\"\n",
    "    \n",
    "\n",
    "    with open(output_file, \"r+\", encoding=\"utf-8\") as f:\n",
    "        content = f.read()\n",
    "        content = content.replace(\"</body>\", f\"{custom_legend}</body>\")\n",
    "        f.seek(0)\n",
    "        f.write(content)\n",
    "        f.truncate()\n",
    "    \n",
    "    print(f\"Interactive graph with legend saved to: {output_file}\")"
   ],
   "metadata": {
    "collapsed": false
   },
   "id": "556792dccd573ec3",
   "execution_count": 37
  },
  {
   "cell_type": "code",
   "outputs": [],
   "source": [],
   "metadata": {
    "collapsed": false
   },
   "id": "f555b2302f5768b5"
  }
 ],
 "metadata": {
  "kernelspec": {
   "display_name": "Python 3 (ipykernel)",
   "language": "python",
   "name": "python3"
  },
  "language_info": {
   "codemirror_mode": {
    "name": "ipython",
    "version": 3
   },
   "file_extension": ".py",
   "mimetype": "text/x-python",
   "name": "python",
   "nbconvert_exporter": "python",
   "pygments_lexer": "ipython3",
   "version": "3.11.10"
  }
 },
 "nbformat": 4,
 "nbformat_minor": 5
}
