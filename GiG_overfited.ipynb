{
 "cells": [
  {
   "cell_type": "code",
   "execution_count": 14,
   "metadata": {},
   "outputs": [],
   "source": [
    "import pandas as pd\n",
    "import os\n",
    "import json\n",
    "import numpy as np\n",
    "import matplotlib.pyplot as plt\n",
    "import networkx as nx\n",
    "import torch \n",
    "\n",
    "import pickle\n",
    "from kg import KnowledgeGraph\n"
   ]
  },
  {
   "cell_type": "code",
   "execution_count": 15,
   "metadata": {},
   "outputs": [
    {
     "name": "stderr",
     "output_type": "stream",
     "text": [
      "/tmp/ipykernel_1163835/4218784358.py:9: FutureWarning: You are using `torch.load` with `weights_only=False` (the current default value), which uses the default pickle module implicitly. It is possible to construct malicious pickle data which will execute arbitrary code during unpickling (See https://github.com/pytorch/pytorch/blob/main/SECURITY.md#untrusted-models for more details). In a future release, the default value for `weights_only` will be flipped to `True`. This limits the functions that could be executed during unpickling. Arbitrary objects will no longer be allowed to be loaded via this mode unless they are explicitly allowlisted by the user via `torch.serialization.add_safe_globals`. We recommend you start setting `weights_only=True` for any use case where you don't have full control of the loaded file. Please open an issue on GitHub for any issues related to this experimental feature.\n",
      "  graphs.append(torch.load(os.path.join(save_dir, file)))\n"
     ]
    }
   ],
   "source": [
    "def load_data(save_dir, max_patients):\n",
    "    graphs = []\n",
    "    files = [f for f in os.listdir(save_dir) if f.endswith(\".pt\")]\n",
    "\n",
    "    # Optionally, sort files to ensure consistent order\n",
    "    files.sort()\n",
    "\n",
    "    for file in files[:max_patients]:  # Limit to max_patients\n",
    "        graphs.append(torch.load(os.path.join(save_dir, file)))\n",
    "    \n",
    "    return graphs\n",
    "\n",
    "save_dir = \"./Data/saved_graphs_3/train\"\n",
    "train_pg_subgraph = load_data(save_dir, max_patients=None)\n",
    "\n",
    "save_dir = \"./Data/saved_graphs_3/val\"\n",
    "val_pg_subgraph = load_data(save_dir, max_patients=20)\n",
    "\n",
    "save_dir = \"./Data/saved_graphs_3/test\"\n",
    "test_pg_subgraph = load_data(save_dir, max_patients=20)\n"
   ]
  },
  {
   "cell_type": "code",
   "execution_count": 16,
   "metadata": {},
   "outputs": [
    {
     "name": "stdout",
     "output_type": "stream",
     "text": [
      "Found 39 unique gene IDs in validation and test data\n",
      "Identified 930 training samples with overlapping gene IDs\n",
      "Found matches for 39/39 validation/test gene IDs\n"
     ]
    }
   ],
   "source": [
    "def identify_overlapping_training_data(train_data, val_data, test_data):\n",
    "    \"\"\"\n",
    "    Identify training samples with gene IDs that overlap with validation and test data,\n",
    "    and assign them to a new variable.\n",
    "    \n",
    "    Args:\n",
    "        train_data: List of training samples\n",
    "        val_data: List of validation samples\n",
    "        test_data: List of test samples\n",
    "        \n",
    "    Returns:\n",
    "        List of training samples that have overlapping gene IDs with val/test data\n",
    "    \"\"\"\n",
    "    # Extract gene IDs from validation and test data\n",
    "    val_test_gene_ids = set()\n",
    "    \n",
    "    # Process validation data\n",
    "    for sample in val_data:\n",
    "        if hasattr(sample, 'true_gene_ids'):\n",
    "            gene_ids = sample.true_gene_ids\n",
    "            if isinstance(gene_ids, list):\n",
    "                val_test_gene_ids.update(gene_ids)\n",
    "            else:\n",
    "                val_test_gene_ids.add(gene_ids)\n",
    "    \n",
    "    # Process test data\n",
    "    for sample in test_data:\n",
    "        if hasattr(sample, 'true_gene_ids'):\n",
    "            gene_ids = sample.true_gene_ids\n",
    "            if isinstance(gene_ids, list):\n",
    "                val_test_gene_ids.update(gene_ids)\n",
    "            else:\n",
    "                val_test_gene_ids.add(gene_ids)\n",
    "    \n",
    "    print(f\"Found {len(val_test_gene_ids)} unique gene IDs in validation and test data\")\n",
    "    \n",
    "    # Find training samples with overlapping gene IDs\n",
    "    training_pg_subgraph_test = []\n",
    "    overlapping_gene_map = {}  # To track which genes are found in which training samples\n",
    "    \n",
    "    for sample in train_data:\n",
    "        if hasattr(sample, 'true_gene_ids'):\n",
    "            gene_ids = sample.true_gene_ids\n",
    "            found_overlap = False\n",
    "            \n",
    "            if isinstance(gene_ids, list):\n",
    "                # Check if any gene ID in the list is in val_test_gene_ids\n",
    "                for gene_id in gene_ids:\n",
    "                    if gene_id in val_test_gene_ids:\n",
    "                        found_overlap = True\n",
    "                        overlapping_gene_map[gene_id] = sample\n",
    "            else:\n",
    "                # Check if the single gene ID is in val_test_gene_ids\n",
    "                if gene_ids in val_test_gene_ids:\n",
    "                    found_overlap = True\n",
    "                    overlapping_gene_map[gene_ids] = sample\n",
    "            \n",
    "            if found_overlap:\n",
    "                training_pg_subgraph_test.append(sample)\n",
    "    \n",
    "    print(f\"Identified {len(training_pg_subgraph_test)} training samples with overlapping gene IDs\")\n",
    "    print(f\"Found matches for {len(overlapping_gene_map)}/{len(val_test_gene_ids)} validation/test gene IDs\")\n",
    "    \n",
    "    return training_pg_subgraph_test, overlapping_gene_map\n",
    "\n",
    "# Identify and assign overlapping training data to training_pg_subgraph_test\n",
    "training_pg_subgraph_test, gene_to_sample_map = identify_overlapping_training_data(\n",
    "    train_pg_subgraph, val_pg_subgraph, test_pg_subgraph\n",
    ")\n",
    "\n",
    "# Display information abou"
   ]
  },
  {
   "cell_type": "code",
   "execution_count": 17,
   "metadata": {},
   "outputs": [
    {
     "name": "stdout",
     "output_type": "stream",
     "text": [
      "Successfully extracted 930 training samples with overlapping gene IDs\n",
      "First sample gene IDs: [1692]\n"
     ]
    }
   ],
   "source": [
    "def extract_overlapping_samples(train_data, val_data, test_data):\n",
    "    \"\"\"\n",
    "    Extract training samples with gene IDs that overlap with validation and test data.\n",
    "    \n",
    "    Args:\n",
    "        train_data: List of training samples\n",
    "        val_data: List of validation samples\n",
    "        test_data: List of test samples\n",
    "        \n",
    "    Returns:\n",
    "        List of training samples with overlapping gene IDs\n",
    "    \"\"\"\n",
    "    # Extract gene IDs from validation and test data\n",
    "    val_test_gene_ids = set()\n",
    "    \n",
    "    # Process validation and test data to get all unique gene IDs\n",
    "    for dataset in [val_data, test_data]:\n",
    "        for sample in dataset:\n",
    "            if hasattr(sample, 'true_gene_ids'):\n",
    "                gene_ids = sample.true_gene_ids\n",
    "                if isinstance(gene_ids, list):\n",
    "                    val_test_gene_ids.update(gene_ids)\n",
    "                else:\n",
    "                    val_test_gene_ids.add(gene_ids)\n",
    "    \n",
    "    # Find and collect training samples with overlapping gene IDs\n",
    "    overlapping_samples = []\n",
    "    \n",
    "    for sample in train_data:\n",
    "        if hasattr(sample, 'true_gene_ids'):\n",
    "            gene_ids = sample.true_gene_ids\n",
    "            found_overlap = False\n",
    "            \n",
    "            if isinstance(gene_ids, list):\n",
    "                # Check if any gene ID in the list is in val_test_gene_ids\n",
    "                for gene_id in gene_ids:\n",
    "                    if gene_id in val_test_gene_ids:\n",
    "                        found_overlap = True\n",
    "                        break\n",
    "            else:\n",
    "                # Check if the single gene ID is in val_test_gene_ids\n",
    "                if gene_ids in val_test_gene_ids:\n",
    "                    found_overlap = True\n",
    "            \n",
    "            if found_overlap:\n",
    "                overlapping_samples.append(sample)\n",
    "    \n",
    "    return overlapping_samples\n",
    "\n",
    "# Extract the 520 overlapping training samples\n",
    "training_pg_subgraph_test = extract_overlapping_samples(\n",
    "    train_pg_subgraph, val_pg_subgraph, test_pg_subgraph\n",
    ")\n",
    "\n",
    "# Verify the extraction\n",
    "print(f\"Successfully extracted {len(training_pg_subgraph_test)} training samples with overlapping gene IDs\")\n",
    "\n",
    "# Optional: Examine a few samples to confirm\n",
    "if len(training_pg_subgraph_test) > 0:\n",
    "    sample = training_pg_subgraph_test[0]\n",
    "    gene_ids = sample.true_gene_ids\n",
    "    print(f\"First sample gene IDs: {gene_ids if not isinstance(gene_ids, list) else gene_ids[:3]}\")"
   ]
  },
  {
   "cell_type": "code",
   "execution_count": 18,
   "metadata": {},
   "outputs": [
    {
     "name": "stdout",
     "output_type": "stream",
     "text": [
      "the number of unique true gene ids is: 39\n",
      "{642: 0, 9353: 1, 56078: 2, 3728: 3, 1298: 4, 11797: 5, 1692: 6, 5281: 7, 7465: 8, 11051: 9, 13739: 10, 10413: 11, 4653: 12, 7729: 13, 10802: 14, 3894: 15, 1210: 16, 1085: 17, 3775: 18, 4802: 19, 2889: 20, 6607: 21, 5199: 22, 6229: 23, 8801: 24, 12774: 25, 743: 26, 2024: 27, 53865: 28, 362: 29, 7019: 30, 53101: 31, 12783: 32, 9073: 33, 70385: 34, 2037: 35, 8566: 36, 6137: 37, 4990: 38}\n"
     ]
    }
   ],
   "source": [
    "## To get the number of true gene and set true gene as data.y label\n",
    "all_true_gene_ids = []\n",
    "\n",
    "for patient in training_pg_subgraph_test:\n",
    "    all_true_gene_ids.extend(patient.true_gene_ids)\n",
    "\n",
    "for patient in val_pg_subgraph:\n",
    "    all_true_gene_ids.extend(patient.true_gene_ids)\n",
    "    \n",
    "for patient in test_pg_subgraph:\n",
    "    all_true_gene_ids.extend(patient.true_gene_ids)\n",
    "\n",
    "## Get the unique true gene ids\n",
    "unique_true_gene_ids = set(all_true_gene_ids)\n",
    "print(\"the number of unique true gene ids is:\",len(unique_true_gene_ids))\n",
    "\n",
    "## Mapping all unique true gene ids to a index from 0 to the number of unique true gene ids\n",
    "gene_id_mapping = {gene_id: idx for idx, gene_id in enumerate(unique_true_gene_ids)}\n",
    "print(gene_id_mapping)\n",
    "\n",
    "## Add the true gene ids back to the graph\n",
    "for patient in training_pg_subgraph_test:\n",
    "    patient.y = torch.tensor([gene_id_mapping[gene_id] for gene_id in patient.true_gene_ids], dtype=torch.long)\n",
    "\n",
    "for patient in val_pg_subgraph:\n",
    "    patient.y = torch.tensor([gene_id_mapping[gene_id] for gene_id in patient.true_gene_ids], dtype=torch.long)\n",
    "\n",
    "for patient in test_pg_subgraph:\n",
    "    patient.y = torch.tensor([gene_id_mapping[gene_id] for gene_id in patient.true_gene_ids], dtype=torch.long)"
   ]
  },
  {
   "cell_type": "code",
   "execution_count": 19,
   "metadata": {},
   "outputs": [],
   "source": [
    "## Preprocess the trainign data, extract only x, y, edge_index\n",
    "\n",
    "from torch_geometric.data import Data\n",
    "\n",
    "def preprocess_graph_data(dataset):\n",
    "    processed_graphs = []\n",
    "   \n",
    "    for data in dataset:\n",
    "        \n",
    "        new_data = Data(\n",
    "            edge_index=data.edge_index,\n",
    "            y=data.y,\n",
    "            x=data.x,\n",
    "            original_ids = data.original_ids,\n",
    "            edge_attr=data.edge_attr\n",
    "        )\n",
    "        processed_graphs.append(new_data)\n",
    "    \n",
    "    return processed_graphs\n",
    "\n",
    "train_data = preprocess_graph_data(training_pg_subgraph_test)\n",
    "val_data = preprocess_graph_data(val_pg_subgraph)\n",
    "test_data = preprocess_graph_data(test_pg_subgraph)"
   ]
  },
  {
   "cell_type": "code",
   "execution_count": 20,
   "metadata": {},
   "outputs": [],
   "source": [
    "## Define collate function for handling batched data\n",
    "def optimized_collate_fn(batch):\n",
    "\n",
    "    batch_size = len(batch)\n",
    "    cumsum_nodes = 0\n",
    "    \n",
    "    # Adjust edge indices to account for the node offset in each batch\n",
    "    adjusted_edge_indices = []\n",
    "    for data in batch:\n",
    "        edge_index = data.edge_index + cumsum_nodes\n",
    "        adjusted_edge_indices.append(edge_index)\n",
    "        cumsum_nodes += data.num_nodes\n",
    "\n",
    "    # Concatenate with adjusted indices\n",
    "    x = torch.cat([data.x for data in batch], dim=0)\n",
    "    y = torch.cat([data.y for data in batch], dim=0)\n",
    "    edge_index = torch.cat(adjusted_edge_indices, dim=1)\n",
    "    edge_attr = torch.cat([data.edge_attr for data in batch], dim=0) if batch[0].edge_attr is not None else None\n",
    "    batch_tensor = torch.cat([torch.full((data.num_nodes,), i, dtype=torch.long) for i, data in enumerate(batch)])\n",
    "    \n",
    "    ## Additional attributes\n",
    "    original_ids = torch.cat([torch.tensor(data.original_ids, dtype=torch.long) if isinstance(data.original_ids, list) else data.original_ids for data in batch if data.original_ids is not None])\n",
    "    \n",
    "    return Data(\n",
    "        x = x,\n",
    "        y = y,\n",
    "        edge_index=edge_index,\n",
    "        edge_attr=edge_attr,\n",
    "        batch=batch_tensor,\n",
    "        original_ids=original_ids,\n",
    "        batch_size=batch_size,\n",
    "      \n",
    "    )\n",
    "## torch.dataloader doesn't consider custom data types\n",
    "from torch.utils.data import DataLoader\n",
    "\n",
    "train_loader = DataLoader(train_data, batch_size=512, shuffle=True, collate_fn=optimized_collate_fn)\n",
    "val_loader = DataLoader(val_data, batch_size=512, collate_fn=optimized_collate_fn)\n",
    "test_loader = DataLoader(test_data, batch_size=128, collate_fn=optimized_collate_fn)\n"
   ]
  },
  {
   "cell_type": "code",
   "execution_count": 21,
   "metadata": {},
   "outputs": [],
   "source": [
    "import torch.nn as nn\n",
    "\n",
    "class GlobalNodeEmbedding(nn.Module):\n",
    "    def __init__(self, num_global_nodes, embedding_dim):\n",
    "        super().__init__()\n",
    "        self.embedding = nn.Embedding(num_global_nodes, embedding_dim)\n",
    "   \n",
    "    def forward(self, node_ids):\n",
    "        if isinstance(node_ids, list):\n",
    "            node_ids = torch.tensor(node_ids, dtype=torch.long)\n",
    "        node_ids = node_ids.view(-1)  # Flatten any multi-dimensional input\n",
    "\n",
    "        embeddings = self.embedding(node_ids)\n",
    "        return embeddings\n"
   ]
  },
  {
   "cell_type": "code",
   "execution_count": 22,
   "metadata": {},
   "outputs": [],
   "source": [
    "class SoftHistogram(nn.Module):\n",
    "    def __init__(self, bins, min, max, sigma):\n",
    "        super().__init__()\n",
    "        self.bins = bins\n",
    "        self.min = min\n",
    "        self.max = max\n",
    "        self.sigma = sigma\n",
    "        self.delta = (max - min) / bins\n",
    "        self.centers = torch.linspace(min + self.delta/2, max - self.delta/2, bins)\n",
    "        \n",
    "    def forward(self, x):\n",
    "        x = x.view(-1, 1)\n",
    "        centers = self.centers.to(x.device).view(1, -1)\n",
    "        # Compute Gaussian smoothed histogram\n",
    "        x = torch.exp(-(x - centers)**2 / (2 * self.sigma**2))\n",
    "        # Normalize each data point's contribution\n",
    "        x = x / x.sum(dim=1, keepdim=True)\n",
    "        # Sum over all data points\n",
    "        histogram = x.sum(dim=0)\n",
    "        return histogram"
   ]
  },
  {
   "cell_type": "code",
   "execution_count": 23,
   "metadata": {},
   "outputs": [],
   "source": [
    "import torch\n",
    "import torch.nn as nn\n",
    "import torch.nn.functional as F\n",
    "from torch_geometric.nn import (\n",
    "    GCNConv, GraphConv, SAGEConv, GIN, \n",
    "    global_mean_pool, global_add_pool\n",
    ")\n",
    "import numpy as np\n",
    "\n",
    "## Node-Level Module (F1)\n",
    "class F1NodeLevelModule(nn.Module):\n",
    "    def __init__(self, input_dim, hidden_dim, embedding_dim, conv_type='GCN',\n",
    "                 dropout=0.5, pooling=\"mean\", num_layers=2):\n",
    "        super().__init__()\n",
    "\n",
    "        self.input_dim = input_dim\n",
    "        self.hidden_dim = hidden_dim\n",
    "        self.embedding_dim = embedding_dim\n",
    "        self.dropout = dropout\n",
    "\n",
    "        # Choose GNN Layer Type\n",
    "        if conv_type == \"GCN\":\n",
    "            Conv = GCNConv\n",
    "        elif conv_type == \"Graph\":\n",
    "            Conv = GraphConv\n",
    "        elif conv_type == \"SAGE\":\n",
    "            Conv = SAGEConv\n",
    "        elif conv_type == \"GIN\":\n",
    "            Conv = lambda in_dim, out_dim: GIN(\n",
    "                nn=nn.Sequential(\n",
    "                    nn.Linear(in_dim, out_dim),\n",
    "                    nn.ReLU(),\n",
    "                    nn.Linear(out_dim, out_dim)\n",
    "                )\n",
    "            )\n",
    "        else:\n",
    "            raise ValueError(f\"Unknown conv_type: {conv_type}\")\n",
    "\n",
    "        # Define GNN layers\n",
    "        self.convs = nn.ModuleList()\n",
    "        self.bns = nn.ModuleList()\n",
    "\n",
    "        # First Layer\n",
    "        self.convs.append(Conv(input_dim, hidden_dim))\n",
    "        self.bns.append(nn.LayerNorm(hidden_dim))  # Using LayerNorm for stability\n",
    "\n",
    "        # Hidden Layers (Adding Residual Connections)\n",
    "        for _ in range(num_layers):\n",
    "            self.convs.append(Conv(hidden_dim, hidden_dim))\n",
    "            self.bns.append(nn.LayerNorm(hidden_dim))\n",
    "\n",
    "        # Last Layer\n",
    "        self.convs.append(Conv(hidden_dim, embedding_dim))\n",
    "        self.bns.append(nn.LayerNorm(embedding_dim))  # Ensure correct dimension\n",
    "\n",
    "        self.dropout_layer = nn.Dropout(dropout)\n",
    "        self.pooling = global_mean_pool if pooling == \"mean\" else global_add_pool\n",
    "\n",
    "\n",
    "    def forward(self, data):\n",
    "        x, edge_index, batch = data.x, data.edge_index, data.batch\n",
    "\n",
    "        for conv, bn in zip(self.convs[:-1], self.bns[:-1]):\n",
    "            x = conv(x, edge_index)\n",
    "            x = bn(x)\n",
    "            x = F.relu(x)\n",
    "            x = self.dropout_layer(x)\n",
    "\n",
    "        x = self.convs[-1](x, edge_index)\n",
    "        x = self.bns[-1](x)\n",
    "        x = F.leaky_relu(x, 0.2)\n",
    "        x = self.dropout_layer(x)\n",
    "\n",
    "        node_embeddings = x\n",
    "        graph_embeddings = self.pooling(node_embeddings, batch)\n",
    "\n",
    "        return node_embeddings, graph_embeddings\n",
    "\n",
    "\n",
    "## Population-Level Module (F2)\n",
    "class F2PopulationLevelGraph(nn.Module):\n",
    "    def __init__(self, embedding_dim, latent_dim, temperature=0.5, threshold=0.1):\n",
    "        super().__init__()\n",
    "        \n",
    "        # Simplify the transformation network\n",
    "        self.latent_transform = nn.Sequential(\n",
    "            nn.Linear(embedding_dim, latent_dim),\n",
    "            nn.LayerNorm(latent_dim),\n",
    "            nn.LeakyReLU(0.2)\n",
    "        )\n",
    "\n",
    "        # Use direct parameters like the tutor\n",
    "        self.temp = nn.Parameter(torch.tensor(temperature, dtype=torch.float32))\n",
    "        self.theta = nn.Parameter(torch.tensor(threshold, dtype=torch.float32))\n",
    "        self.mu = nn.Parameter(torch.tensor(2.0, dtype=torch.float32))\n",
    "        self.sigma = nn.Parameter(torch.tensor(1.0, dtype=torch.float32))\n",
    "        \n",
    "    def forward(self, graph_embeddings):\n",
    "        # Transform to latent space with the neural network\n",
    "        latent_space = self.latent_transform(graph_embeddings)\n",
    "        \n",
    "        # Compute the pairwise differences exactly as tutor does\n",
    "        diff = latent_space.unsqueeze(1) - latent_space.unsqueeze(0)\n",
    "        # Compute the squared norm\n",
    "        diff = torch.pow(diff, 2).sum(2)\n",
    "        mask_diff = diff != 0.0\n",
    "        dist = - torch.sqrt(diff + torch.finfo(torch.float32).eps)\n",
    "        dist = dist * mask_diff\n",
    "        \n",
    "        # Apply temperature and threshold like tutor\n",
    "        prob_matrix = self.temp * dist + self.theta\n",
    "        \n",
    "        # Add eye and sigmoid\n",
    "        adj = prob_matrix + torch.eye(prob_matrix.shape[0]).to(prob_matrix.device)\n",
    "        adjacency_matrix = torch.sigmoid(adj)\n",
    "        \n",
    "        # Extract edges for the GNN\n",
    "        edge_indices = torch.nonzero(adjacency_matrix > 0.1, as_tuple=False)\n",
    "        edge_index = edge_indices.t()\n",
    "        edge_weight = adjacency_matrix[edge_indices[:, 0], edge_indices[:, 1]]\n",
    "        \n",
    "        # Calculate KL loss using tutor's approach\n",
    "        n_nodes = adjacency_matrix.shape[0]\n",
    "        softhist = SoftHistogram(bins=n_nodes, min=0.5, max=n_nodes + 0.5, sigma=0.6)\n",
    "        kl_loss = self._compute_kl_loss(adjacency_matrix, n_nodes, softhist)\n",
    "        \n",
    "        return adjacency_matrix, edge_index, edge_weight, kl_loss\n",
    "    \n",
    "    def _compute_kl_loss(self, adj, batch_size, softhist):\n",
    "        # Create binary adjacency matrix\n",
    "        binarized_adj = torch.zeros(adj.shape).to(adj.device)\n",
    "        binarized_adj[adj > 0.5] = 1\n",
    "        \n",
    "        # Get distribution and degrees\n",
    "        dist, deg = self._compute_distr(adj * binarized_adj, softhist)\n",
    "        \n",
    "        # Get target distribution\n",
    "        target_dist = self._compute_target_distribution(batch_size)\n",
    "        \n",
    "        # Calculate KL divergence\n",
    "        kl_loss = self._kl_div(dist, target_dist)\n",
    "        return kl_loss\n",
    "    \n",
    "    def _kl_div(self, p, q):\n",
    "        return torch.sum(p * torch.log(p / (q + 1e-8) + 1e-8))\n",
    "    \n",
    "    def _compute_distr(self, adj, softhist):\n",
    "        deg = adj.sum(-1)\n",
    "        distr = softhist(deg)\n",
    "        return distr / torch.sum(distr), deg\n",
    "    \n",
    "    def _compute_target_distribution(self, batch_size):\n",
    "        \"\"\"Compute Gaussian target distribution like tutor\"\"\"\n",
    "        device = self.mu.device\n",
    "        target_distribution = torch.zeros(batch_size).to(device)\n",
    "        \n",
    "        # Use all bins\n",
    "        indices = torch.arange(batch_size, device=device)\n",
    "        \n",
    "        # Create Gaussian distribution \n",
    "        target_distribution = torch.exp(\n",
    "            -((self.mu - indices) ** 2) / (self.sigma ** 2)\n",
    "        )\n",
    "        \n",
    "        # Normalize\n",
    "        return target_distribution / target_distribution.sum()\n",
    "\n",
    "## Classifier Module (F3)\n",
    "class F3Classifier(nn.Module):\n",
    "    def __init__(self, input_dim_h, gnn_hidden_dim, num_classes, conv_type=\"GCN\", gnn_layers=2, dropout=0.3):\n",
    "        super().__init__()\n",
    "        \n",
    "        self.input_dim_h = input_dim_h\n",
    "        self.gnn_hidden_dim = gnn_hidden_dim\n",
    "        self.num_classes = num_classes\n",
    "        \n",
    "        # Choose GNN Layer\n",
    "        if conv_type == \"GCN\":\n",
    "            Conv = GCNConv\n",
    "        else:\n",
    "            Conv = GraphConv\n",
    "        \n",
    "        # Complex input transformation with multiple pathways\n",
    "        self.input_transform = nn.Sequential(\n",
    "            # Branch 1: Direct mapping\n",
    "            nn.Linear(input_dim_h, gnn_hidden_dim),\n",
    "            nn.BatchNorm1d(gnn_hidden_dim),\n",
    "            nn.ReLU(),\n",
    "            nn.Dropout(dropout)\n",
    "        )\n",
    "        \n",
    "        self.deep_transform = nn.Sequential(\n",
    "            nn.Linear(input_dim_h, gnn_hidden_dim),\n",
    "            nn.LayerNorm(gnn_hidden_dim),\n",
    "            nn.LeakyReLU(0.2),\n",
    "            nn.Dropout(dropout/2),\n",
    "            nn.Linear(gnn_hidden_dim, gnn_hidden_dim),\n",
    "            nn.LayerNorm(gnn_hidden_dim),\n",
    "            nn.LeakyReLU(0.2),\n",
    "            nn.Dropout(dropout/2)\n",
    "        )\n",
    "        \n",
    "        # Feature attention layer\n",
    "        self.feature_attention = nn.Sequential(\n",
    "            nn.Linear(gnn_hidden_dim, gnn_hidden_dim // 4),\n",
    "            nn.ReLU(),\n",
    "            nn.Linear(gnn_hidden_dim // 4, gnn_hidden_dim),\n",
    "            nn.Sigmoid()\n",
    "        )\n",
    "        \n",
    "        # Integration layer\n",
    "        self.integration = nn.Sequential(\n",
    "            nn.Linear(gnn_hidden_dim * 2, gnn_hidden_dim),\n",
    "            nn.LayerNorm(gnn_hidden_dim),\n",
    "            nn.ReLU()\n",
    "        )\n",
    "        \n",
    "        # Simpler GNN stack\n",
    "        self.gnn_layers = nn.ModuleList([Conv(gnn_hidden_dim, gnn_hidden_dim) for _ in range(gnn_layers)])\n",
    "        \n",
    "        # In F3Classifier\n",
    "        self.classifier = nn.Sequential(\n",
    "            nn.Linear(gnn_hidden_dim, gnn_hidden_dim*2),\n",
    "            nn.BatchNorm1d(gnn_hidden_dim*2),\n",
    "            nn.LeakyReLU(negative_slope=0.1),\n",
    "            nn.Dropout(dropout),\n",
    "            nn.Linear(gnn_hidden_dim*2, gnn_hidden_dim),\n",
    "            nn.BatchNorm1d(gnn_hidden_dim),\n",
    "            nn.LeakyReLU(negative_slope=0.1), \n",
    "            nn.Linear(gnn_hidden_dim, num_classes)\n",
    "        )\n",
    "\n",
    "    def forward(self, h, edge_index, batch, Ap=None, edge_weight=None, gene_ids=None):\n",
    "        # First transform input\n",
    "        h = F.relu(self.input_transform(h))\n",
    "        \n",
    "        # Process through GNN layers\n",
    "        for gnn in self.gnn_layers:\n",
    "            if edge_weight is not None and isinstance(gnn, (GCNConv, GraphConv)):\n",
    "                h = gnn(h, edge_index, edge_weight)\n",
    "            else:\n",
    "                h = gnn(h, edge_index)\n",
    "            h = F.relu(h)\n",
    "        \n",
    "        # Simple pooling\n",
    "        graph_embeddings = global_mean_pool(h, batch)\n",
    "        \n",
    "        # Final classification\n",
    "        logits = self.classifier(graph_embeddings)\n",
    "        \n",
    "        return logits"
   ]
  },
  {
   "cell_type": "code",
   "execution_count": 24,
   "metadata": {},
   "outputs": [],
   "source": [
    "class GiG(nn.Module):\n",
    "    def __init__(self, config):\n",
    "        super().__init__()\n",
    "        \n",
    "        self.node_level_module = F1NodeLevelModule(\n",
    "            input_dim=config[\"input_dim\"],\n",
    "            hidden_dim=config[\"hidden_dim\"],\n",
    "            embedding_dim=config[\"embedding_dim\"],\n",
    "            conv_type=config[\"conv_type\"],\n",
    "            dropout=config[\"dropout\"]\n",
    "        )\n",
    "        \n",
    "        self.population_level_module = F2PopulationLevelGraph(\n",
    "            embedding_dim=config[\"embedding_dim\"],\n",
    "            latent_dim=config[\"latent_dim\"]\n",
    "        )\n",
    "        \n",
    "        self.classifier = F3Classifier(\n",
    "            input_dim_h=config[\"embedding_dim\"],  # Use embedding_dim from F1\n",
    "            gnn_hidden_dim=config[\"gnn_hidden_dim\"],\n",
    "            num_classes=config[\"num_classes\"],\n",
    "            conv_type=config[\"conv_type\"],\n",
    "            gnn_layers=config[\"gnn_layers\"],\n",
    "            dropout=config[\"dropout\"]\n",
    "        )\n",
    "    def forward(self, data):\n",
    "        # Process inputs through node-level module\n",
    "        node_embeddings, graph_embeddings = self.node_level_module(data)\n",
    "        \n",
    "        # Process through population-level module\n",
    "        adjacency_matrix, edge_index, edge_weight, kl_loss = self.population_level_module(graph_embeddings)\n",
    "        \n",
    "        # Classifier takes embeddings and edge structure\n",
    "        logits = self.classifier(\n",
    "            node_embeddings,\n",
    "            edge_index, \n",
    "            data.batch,\n",
    "            adjacency_matrix,\n",
    "            edge_weight\n",
    "        )\n",
    "        \n",
    "        return logits, adjacency_matrix, kl_loss\n"
   ]
  },
  {
   "cell_type": "code",
   "execution_count": 25,
   "metadata": {},
   "outputs": [],
   "source": [
    "import pytorch_lightning as pl\n",
    "import torch\n",
    "import torch.nn as nn\n",
    "import torchmetrics\n",
    "from torch.optim.lr_scheduler import ReduceLROnPlateau, CosineAnnealingLR\n",
    "\n",
    "# Define Loss Dictionary\n",
    "losses = nn.ModuleDict({\n",
    "    'BCEWithLogitsLoss': nn.BCEWithLogitsLoss(),\n",
    "    'CrossEntropyLoss': nn.CrossEntropyLoss(),\n",
    "    'MultiTaskBCE': nn.BCEWithLogitsLoss(pos_weight=torch.Tensor([10]))\n",
    "})\n",
    "\n",
    "class GiGTrainer(pl.LightningModule):\n",
    "    def __init__(self, config):\n",
    "        super().__init__()\n",
    "        self.config = config\n",
    "        self.save_hyperparameters(config)\n",
    "        self.automatic_optimization = False  # Manual optimization\n",
    "\n",
    "        # Initialize the model\n",
    "        self.model = GiG(config)\n",
    "\n",
    "        # Check and define GlobalNodeEmbedding properly\n",
    "        if \"GlobalNodeEmbedding\" in globals():\n",
    "            self.global_node_embedding = GlobalNodeEmbedding(\n",
    "                num_global_nodes=105220, embedding_dim=config[\"input_dim\"]\n",
    "            )\n",
    "        else:\n",
    "            self.global_node_embedding = nn.Embedding(\n",
    "                num_embeddings=105220, embedding_dim=config[\"input_dim\"]\n",
    "            )\n",
    "\n",
    "        # Set loss function\n",
    "        self.initial_loss = losses[config[\"loss\"]]\n",
    "        self.alpha = config[\"alpha\"]\n",
    "\n",
    "        # Store embeddings for debugging\n",
    "        self.node_embeddings = None\n",
    "\n",
    "    def forward(self, data):\n",
    "        return self.model(data)\n",
    "\n",
    "    def _shared_step(self, data, addition):\n",
    "        \"\"\"Common logic for train, validation, and test steps with NaN protection.\"\"\"\n",
    "        # Ensure input embeddings are used correctly\n",
    "        data.x = self.global_node_embedding(data.original_ids.long().to(self.device))\n",
    "        \n",
    "        # Forward pass\n",
    "        logits, adj_matrix, kl_loss = self.model(data)\n",
    "        \n",
    "        # Prepare labels\n",
    "        labels = data.y.view(-1).long().to(self.device)\n",
    "        \n",
    "        # Compute classification loss\n",
    "        classification_loss = self.initial_loss(logits, data.y.view(-1).long())\n",
    "\n",
    "        \n",
    "        # Handle NaN classification loss\n",
    "        if torch.isnan(classification_loss):\n",
    "            print(f\"Warning: NaN in classification loss detected in {addition} step\")\n",
    "            classification_loss = torch.tensor(5.0, device=self.device)  # Reasonable default\n",
    "        \n",
    "        # Apply very small KL loss weight initially\n",
    "        kl_weight = self.alpha \n",
    "    \n",
    "        # Total loss\n",
    "        total_loss = classification_loss + kl_weight * kl_loss\n",
    "        \n",
    "        # Compute metrics safely\n",
    "        try:\n",
    "            acc = torchmetrics.functional.accuracy(\n",
    "                logits.argmax(dim=-1), labels, task=\"multiclass\", num_classes=logits.shape[1]\n",
    "            )\n",
    "            f1 = torchmetrics.functional.f1_score(\n",
    "                logits.argmax(dim=-1), labels, task=\"multiclass\", num_classes=logits.shape[1]\n",
    "            )\n",
    "        except Exception as e:\n",
    "            print(f\"Error computing metrics: {e}\")\n",
    "            acc = torch.tensor(0.0)\n",
    "            f1 = torch.tensor(0.0)\n",
    "                \n",
    "        # Log metrics\n",
    "        metrics = {\n",
    "            f\"{addition}_acc\": acc,\n",
    "            f\"{addition}_f1\": f1,\n",
    "            f\"{addition}_loss\": total_loss,\n",
    "            f\"{addition}_classification_loss\": classification_loss,\n",
    "            f\"{addition}_kl_loss\": kl_loss,\n",
    "        }\n",
    "        \n",
    "        return metrics, total_loss\n",
    "\n",
    "    def training_step(self, batch, batch_idx):\n",
    "        \"\"\"Training step with gradient clipping and NaN detection.\"\"\"\n",
    "        # Get optimizers\n",
    "        main_optimizer, lgl_optimizer = self.optimizers()\n",
    "        \n",
    "        # Zero gradients\n",
    "        main_optimizer.zero_grad()\n",
    "        lgl_optimizer.zero_grad()\n",
    "        \n",
    "        # Forward and loss calculation\n",
    "        metrics, loss = self._shared_step(batch, \"train\")\n",
    "    \n",
    "        # Check if loss is valid\n",
    "        if not torch.isfinite(loss):\n",
    "            print(f\"Warning: Non-finite loss detected: {loss}\")\n",
    "            # Return a default loss to continue training\n",
    "            placeholder_loss = torch.tensor(5.0, device=self.device, requires_grad=True)\n",
    "            # Use log_dict with on_step=True, on_epoch=True\n",
    "            self.log_dict(metrics, prog_bar=True, batch_size=len(batch.y), \n",
    "                        on_step=True, on_epoch=True)\n",
    "            return placeholder_loss\n",
    "        \n",
    "        # Backward pass\n",
    "        self.manual_backward(loss)\n",
    "        \n",
    "        # Check for NaN/Inf gradients before optimizer step\n",
    "        valid_gradients = True\n",
    "        for name, param in self.named_parameters():\n",
    "            if param.grad is not None:\n",
    "                if not torch.isfinite(param.grad).all():\n",
    "                    print(f\"Warning: Non-finite gradients in {name}\")\n",
    "                    valid_gradients = False\n",
    "                    param.grad = torch.zeros_like(param.grad)  # Reset problematic gradients\n",
    "        \n",
    "        # Clip gradients to prevent explosion\n",
    "        if valid_gradients:\n",
    "            torch.nn.utils.clip_grad_norm_(self.parameters(), max_norm=1.0)\n",
    "        \n",
    "        # Update parameters\n",
    "        main_optimizer.step()\n",
    "        lgl_optimizer.step()\n",
    "        \n",
    "        # Log metrics - correctly specify on_step and on_epoch\n",
    "        self.log_dict(metrics, prog_bar=True, batch_size=len(batch.y),\n",
    "                    on_step=True, on_epoch=True)\n",
    "        \n",
    "        return loss\n",
    "\n",
    "    def validation_step(self, batch, batch_idx):\n",
    "        metrics, _ = self._shared_step(batch, \"val\")\n",
    "        \n",
    "        with torch.no_grad():  # Ensure we don't compute gradients\n",
    "            node_embeddings, _ = self.model.node_level_module(batch)\n",
    "            node_embeddings = node_embeddings.detach().cpu()\n",
    "            \n",
    "            # Store embeddings for later analysis\n",
    "            if self.node_embeddings is None:\n",
    "                self.node_embeddings = node_embeddings\n",
    "            else:\n",
    "                self.node_embeddings = torch.cat([self.node_embeddings, node_embeddings], dim=0)\n",
    "    \n",
    "        # Add on_step and on_epoch parameters\n",
    "        self.log_dict(metrics, prog_bar=True, batch_size=len(batch.y),\n",
    "                    on_step=False, on_epoch=True)\n",
    "        return metrics\n",
    "\n",
    "    def test_step(self, batch, batch_idx):\n",
    "        metrics, _ = self._shared_step(batch, \"test\")\n",
    "        # Add on_step and on_epoch parameters\n",
    "        self.log_dict(metrics, batch_size=len(batch.y),\n",
    "                    on_step=False, on_epoch=True)\n",
    "        return metrics\n",
    "    \n",
    "    def configure_optimizers(self):\n",
    "        \"\"\"Set up optimizers and learning rate schedulers.\"\"\"\n",
    "        # Main parameters excluding population graph learnable scalars\n",
    "        main_params = [\n",
    "            param for name_, param in self.model.population_level_module.named_parameters()\n",
    "            if name_ not in [\"log_temperature\", \"log_threshold\", \"mu\", \"sigma\"]\n",
    "        ]\n",
    "        main_params.extend(self.model.node_level_module.parameters())\n",
    "        main_params.extend(self.model.classifier.parameters())\n",
    "\n",
    "        # Define optimizers with weight decay\n",
    "        main_optimizer = torch.optim.Adam(\n",
    "            main_params, \n",
    "            lr=self.config[\"lr\"],\n",
    "            weight_decay=self.config.get(\"weight_decay\", 1e-5)\n",
    "        )\n",
    "        \n",
    "        # Updated parameter names for log-space parameters\n",
    "        # In configure_optimizers method\n",
    "        lgl_optimizer = torch.optim.Adam([\n",
    "            self.model.population_level_module.temp,      # Changed from log_temperature\n",
    "            self.model.population_level_module.theta,     # Changed from log_threshold\n",
    "            self.model.population_level_module.mu,\n",
    "            self.model.population_level_module.sigma\n",
    "        ], lr=self.config[\"lr_theta_temp\"])\n",
    "\n",
    "        # Define learning rate scheduler\n",
    "        if self.config[\"scheduler\"] == \"ReduceLROnPlateau\":\n",
    "            scheduler_dict = {\n",
    "                \"scheduler\": ReduceLROnPlateau(\n",
    "                    main_optimizer, mode=\"min\", patience=5,\n",
    "                    threshold=0.001, verbose=True\n",
    "                ),\n",
    "                \"interval\": \"epoch\",\n",
    "                \"monitor\": \"val_loss\",\n",
    "                \"frequency\": 1\n",
    "            }\n",
    "        else:\n",
    "            scheduler_dict = {\n",
    "                \"scheduler\": CosineAnnealingLR(main_optimizer, T_max=10),\n",
    "                \"interval\": \"epoch\",\n",
    "                \"monitor\": \"val_loss\",\n",
    "                \"frequency\": 1\n",
    "            }\n",
    "\n",
    "        return [main_optimizer, lgl_optimizer], [scheduler_dict]"
   ]
  },
  {
   "cell_type": "code",
   "execution_count": 26,
   "metadata": {},
   "outputs": [
    {
     "data": {
      "application/vnd.jupyter.widget-view+json": {
       "model_id": "f0c84f50b71c4a869876650786a8ff43",
       "version_major": 2,
       "version_minor": 0
      },
      "text/plain": [
       "Validation: |          | 0/? [00:00<?, ?it/s]"
      ]
     },
     "metadata": {},
     "output_type": "display_data"
    },
    {
     "data": {
      "application/vnd.jupyter.widget-view+json": {
       "model_id": "ac8c4a49f3024ca096b85c72f00335a2",
       "version_major": 2,
       "version_minor": 0
      },
      "text/plain": [
       "Validation: |          | 0/? [00:00<?, ?it/s]"
      ]
     },
     "metadata": {},
     "output_type": "display_data"
    },
    {
     "data": {
      "application/vnd.jupyter.widget-view+json": {
       "model_id": "3d3961b46de84884a8f66682f35aa70b",
       "version_major": 2,
       "version_minor": 0
      },
      "text/plain": [
       "Validation: |          | 0/? [00:00<?, ?it/s]"
      ]
     },
     "metadata": {},
     "output_type": "display_data"
    },
    {
     "data": {
      "application/vnd.jupyter.widget-view+json": {
       "model_id": "88798b717fb84441aab57ecffdd9920d",
       "version_major": 2,
       "version_minor": 0
      },
      "text/plain": [
       "Validation: |          | 0/? [00:00<?, ?it/s]"
      ]
     },
     "metadata": {},
     "output_type": "display_data"
    },
    {
     "data": {
      "application/vnd.jupyter.widget-view+json": {
       "model_id": "73fdab2fb038472bbcba3adcd5d3598c",
       "version_major": 2,
       "version_minor": 0
      },
      "text/plain": [
       "Validation: |          | 0/? [00:00<?, ?it/s]"
      ]
     },
     "metadata": {},
     "output_type": "display_data"
    },
    {
     "data": {
      "application/vnd.jupyter.widget-view+json": {
       "model_id": "a1d2799b438c47e589c46263833db380",
       "version_major": 2,
       "version_minor": 0
      },
      "text/plain": [
       "Validation: |          | 0/? [00:00<?, ?it/s]"
      ]
     },
     "metadata": {},
     "output_type": "display_data"
    },
    {
     "data": {
      "application/vnd.jupyter.widget-view+json": {
       "model_id": "31bec2557e3f4dd0a586b3c58c19a1bb",
       "version_major": 2,
       "version_minor": 0
      },
      "text/plain": [
       "Validation: |          | 0/? [00:00<?, ?it/s]"
      ]
     },
     "metadata": {},
     "output_type": "display_data"
    },
    {
     "data": {
      "application/vnd.jupyter.widget-view+json": {
       "model_id": "f43c42b4aadf4d76847d995b563d42ac",
       "version_major": 2,
       "version_minor": 0
      },
      "text/plain": [
       "Validation: |          | 0/? [00:00<?, ?it/s]"
      ]
     },
     "metadata": {},
     "output_type": "display_data"
    },
    {
     "data": {
      "application/vnd.jupyter.widget-view+json": {
       "model_id": "1ef2cd38abb44c619604be001cf5125a",
       "version_major": 2,
       "version_minor": 0
      },
      "text/plain": [
       "Validation: |          | 0/? [00:00<?, ?it/s]"
      ]
     },
     "metadata": {},
     "output_type": "display_data"
    },
    {
     "data": {
      "application/vnd.jupyter.widget-view+json": {
       "model_id": "aa0cfbad54a3457e9aabe821631d3490",
       "version_major": 2,
       "version_minor": 0
      },
      "text/plain": [
       "Validation: |          | 0/? [00:00<?, ?it/s]"
      ]
     },
     "metadata": {},
     "output_type": "display_data"
    },
    {
     "data": {
      "application/vnd.jupyter.widget-view+json": {
       "model_id": "6751ae5e3a2a40529424c357d90850ca",
       "version_major": 2,
       "version_minor": 0
      },
      "text/plain": [
       "Validation: |          | 0/? [00:00<?, ?it/s]"
      ]
     },
     "metadata": {},
     "output_type": "display_data"
    },
    {
     "data": {
      "application/vnd.jupyter.widget-view+json": {
       "model_id": "0c90d8abe7fb41928a8bcc7c6735772a",
       "version_major": 2,
       "version_minor": 0
      },
      "text/plain": [
       "Validation: |          | 0/? [00:00<?, ?it/s]"
      ]
     },
     "metadata": {},
     "output_type": "display_data"
    },
    {
     "data": {
      "application/vnd.jupyter.widget-view+json": {
       "model_id": "0eb4dd770cdd448bb8fc50afa770321f",
       "version_major": 2,
       "version_minor": 0
      },
      "text/plain": [
       "Validation: |          | 0/? [00:00<?, ?it/s]"
      ]
     },
     "metadata": {},
     "output_type": "display_data"
    },
    {
     "data": {
      "application/vnd.jupyter.widget-view+json": {
       "model_id": "36120d92d26448c19bf966b24db149f8",
       "version_major": 2,
       "version_minor": 0
      },
      "text/plain": [
       "Validation: |          | 0/? [00:00<?, ?it/s]"
      ]
     },
     "metadata": {},
     "output_type": "display_data"
    },
    {
     "data": {
      "application/vnd.jupyter.widget-view+json": {
       "model_id": "e7e592b842c047cb81c4522a72c558da",
       "version_major": 2,
       "version_minor": 0
      },
      "text/plain": [
       "Validation: |          | 0/? [00:00<?, ?it/s]"
      ]
     },
     "metadata": {},
     "output_type": "display_data"
    },
    {
     "data": {
      "application/vnd.jupyter.widget-view+json": {
       "model_id": "ff27449a420f46e68b039e91cf39006f",
       "version_major": 2,
       "version_minor": 0
      },
      "text/plain": [
       "Validation: |          | 0/? [00:00<?, ?it/s]"
      ]
     },
     "metadata": {},
     "output_type": "display_data"
    },
    {
     "data": {
      "application/vnd.jupyter.widget-view+json": {
       "model_id": "7d78294b12d648e8ae82a6b48ac1dd11",
       "version_major": 2,
       "version_minor": 0
      },
      "text/plain": [
       "Validation: |          | 0/? [00:00<?, ?it/s]"
      ]
     },
     "metadata": {},
     "output_type": "display_data"
    },
    {
     "data": {
      "application/vnd.jupyter.widget-view+json": {
       "model_id": "14f511e083c145d98f95b317286336af",
       "version_major": 2,
       "version_minor": 0
      },
      "text/plain": [
       "Validation: |          | 0/? [00:00<?, ?it/s]"
      ]
     },
     "metadata": {},
     "output_type": "display_data"
    },
    {
     "data": {
      "application/vnd.jupyter.widget-view+json": {
       "model_id": "eb575194a6354ff3ad9140c362c7cd69",
       "version_major": 2,
       "version_minor": 0
      },
      "text/plain": [
       "Validation: |          | 0/? [00:00<?, ?it/s]"
      ]
     },
     "metadata": {},
     "output_type": "display_data"
    },
    {
     "data": {
      "application/vnd.jupyter.widget-view+json": {
       "model_id": "c392660543994262bde7b4c626563c70",
       "version_major": 2,
       "version_minor": 0
      },
      "text/plain": [
       "Validation: |          | 0/? [00:00<?, ?it/s]"
      ]
     },
     "metadata": {},
     "output_type": "display_data"
    },
    {
     "data": {
      "application/vnd.jupyter.widget-view+json": {
       "model_id": "bdb6d95f0c244adfa8246cf0ec37cefd",
       "version_major": 2,
       "version_minor": 0
      },
      "text/plain": [
       "Validation: |          | 0/? [00:00<?, ?it/s]"
      ]
     },
     "metadata": {},
     "output_type": "display_data"
    },
    {
     "data": {
      "application/vnd.jupyter.widget-view+json": {
       "model_id": "d4ac7d4c684b4e9990b606931d76e4dc",
       "version_major": 2,
       "version_minor": 0
      },
      "text/plain": [
       "Validation: |          | 0/? [00:00<?, ?it/s]"
      ]
     },
     "metadata": {},
     "output_type": "display_data"
    },
    {
     "data": {
      "application/vnd.jupyter.widget-view+json": {
       "model_id": "0cc3125d1a6747178d6dbb34b83a87d9",
       "version_major": 2,
       "version_minor": 0
      },
      "text/plain": [
       "Validation: |          | 0/? [00:00<?, ?it/s]"
      ]
     },
     "metadata": {},
     "output_type": "display_data"
    },
    {
     "data": {
      "application/vnd.jupyter.widget-view+json": {
       "model_id": "c5237040c38f477a97f5036c29a6b3b6",
       "version_major": 2,
       "version_minor": 0
      },
      "text/plain": [
       "Validation: |          | 0/? [00:00<?, ?it/s]"
      ]
     },
     "metadata": {},
     "output_type": "display_data"
    },
    {
     "data": {
      "application/vnd.jupyter.widget-view+json": {
       "model_id": "238502970b684194b18c237c1d3ca902",
       "version_major": 2,
       "version_minor": 0
      },
      "text/plain": [
       "Validation: |          | 0/? [00:00<?, ?it/s]"
      ]
     },
     "metadata": {},
     "output_type": "display_data"
    },
    {
     "data": {
      "application/vnd.jupyter.widget-view+json": {
       "model_id": "3115e730f3aa45109561d1463eb399ed",
       "version_major": 2,
       "version_minor": 0
      },
      "text/plain": [
       "Validation: |          | 0/? [00:00<?, ?it/s]"
      ]
     },
     "metadata": {},
     "output_type": "display_data"
    },
    {
     "data": {
      "application/vnd.jupyter.widget-view+json": {
       "model_id": "bf7aa87535274229a3fda9e4a6571528",
       "version_major": 2,
       "version_minor": 0
      },
      "text/plain": [
       "Validation: |          | 0/? [00:00<?, ?it/s]"
      ]
     },
     "metadata": {},
     "output_type": "display_data"
    },
    {
     "data": {
      "application/vnd.jupyter.widget-view+json": {
       "model_id": "04b7dc8832264116ba53229a2752d232",
       "version_major": 2,
       "version_minor": 0
      },
      "text/plain": [
       "Validation: |          | 0/? [00:00<?, ?it/s]"
      ]
     },
     "metadata": {},
     "output_type": "display_data"
    },
    {
     "data": {
      "application/vnd.jupyter.widget-view+json": {
       "model_id": "7ab9107aee6442a7a76227733e366ad7",
       "version_major": 2,
       "version_minor": 0
      },
      "text/plain": [
       "Validation: |          | 0/? [00:00<?, ?it/s]"
      ]
     },
     "metadata": {},
     "output_type": "display_data"
    },
    {
     "data": {
      "application/vnd.jupyter.widget-view+json": {
       "model_id": "a28e170d47e0451b82d34865706397f4",
       "version_major": 2,
       "version_minor": 0
      },
      "text/plain": [
       "Validation: |          | 0/? [00:00<?, ?it/s]"
      ]
     },
     "metadata": {},
     "output_type": "display_data"
    },
    {
     "data": {
      "application/vnd.jupyter.widget-view+json": {
       "model_id": "1b9e391ac9934586a58d7d9c9023c22c",
       "version_major": 2,
       "version_minor": 0
      },
      "text/plain": [
       "Validation: |          | 0/? [00:00<?, ?it/s]"
      ]
     },
     "metadata": {},
     "output_type": "display_data"
    },
    {
     "data": {
      "application/vnd.jupyter.widget-view+json": {
       "model_id": "6609a46e280e4d49aa86abc7bdcfd6b7",
       "version_major": 2,
       "version_minor": 0
      },
      "text/plain": [
       "Validation: |          | 0/? [00:00<?, ?it/s]"
      ]
     },
     "metadata": {},
     "output_type": "display_data"
    },
    {
     "data": {
      "application/vnd.jupyter.widget-view+json": {
       "model_id": "57a1c7752c904c93b43f902fc9c3db5b",
       "version_major": 2,
       "version_minor": 0
      },
      "text/plain": [
       "Validation: |          | 0/? [00:00<?, ?it/s]"
      ]
     },
     "metadata": {},
     "output_type": "display_data"
    },
    {
     "data": {
      "application/vnd.jupyter.widget-view+json": {
       "model_id": "b6fd83f693ba43099286fc35392afdc2",
       "version_major": 2,
       "version_minor": 0
      },
      "text/plain": [
       "Validation: |          | 0/? [00:00<?, ?it/s]"
      ]
     },
     "metadata": {},
     "output_type": "display_data"
    },
    {
     "data": {
      "application/vnd.jupyter.widget-view+json": {
       "model_id": "fa113880b65e4f649f8ca3bba49f1184",
       "version_major": 2,
       "version_minor": 0
      },
      "text/plain": [
       "Validation: |          | 0/? [00:00<?, ?it/s]"
      ]
     },
     "metadata": {},
     "output_type": "display_data"
    },
    {
     "data": {
      "application/vnd.jupyter.widget-view+json": {
       "model_id": "aecea9aa3f1d478fb75bf92a5a403e54",
       "version_major": 2,
       "version_minor": 0
      },
      "text/plain": [
       "Validation: |          | 0/? [00:00<?, ?it/s]"
      ]
     },
     "metadata": {},
     "output_type": "display_data"
    },
    {
     "data": {
      "application/vnd.jupyter.widget-view+json": {
       "model_id": "15537de2b10d49d6a3770d32bdefcde5",
       "version_major": 2,
       "version_minor": 0
      },
      "text/plain": [
       "Validation: |          | 0/? [00:00<?, ?it/s]"
      ]
     },
     "metadata": {},
     "output_type": "display_data"
    },
    {
     "data": {
      "application/vnd.jupyter.widget-view+json": {
       "model_id": "71a6eb457a0d429890c03183d5b0cc4f",
       "version_major": 2,
       "version_minor": 0
      },
      "text/plain": [
       "Validation: |          | 0/? [00:00<?, ?it/s]"
      ]
     },
     "metadata": {},
     "output_type": "display_data"
    },
    {
     "data": {
      "application/vnd.jupyter.widget-view+json": {
       "model_id": "9117484a2d104374a2724615d48070fd",
       "version_major": 2,
       "version_minor": 0
      },
      "text/plain": [
       "Validation: |          | 0/? [00:00<?, ?it/s]"
      ]
     },
     "metadata": {},
     "output_type": "display_data"
    },
    {
     "data": {
      "application/vnd.jupyter.widget-view+json": {
       "model_id": "486ef042f4f24338a73806359dc7f7ba",
       "version_major": 2,
       "version_minor": 0
      },
      "text/plain": [
       "Validation: |          | 0/? [00:00<?, ?it/s]"
      ]
     },
     "metadata": {},
     "output_type": "display_data"
    },
    {
     "data": {
      "application/vnd.jupyter.widget-view+json": {
       "model_id": "005dc09c51e34bab8ee8002e357c8e85",
       "version_major": 2,
       "version_minor": 0
      },
      "text/plain": [
       "Validation: |          | 0/? [00:00<?, ?it/s]"
      ]
     },
     "metadata": {},
     "output_type": "display_data"
    },
    {
     "data": {
      "application/vnd.jupyter.widget-view+json": {
       "model_id": "c25756e39a644f028f221f00d58c584e",
       "version_major": 2,
       "version_minor": 0
      },
      "text/plain": [
       "Validation: |          | 0/? [00:00<?, ?it/s]"
      ]
     },
     "metadata": {},
     "output_type": "display_data"
    },
    {
     "data": {
      "application/vnd.jupyter.widget-view+json": {
       "model_id": "48641581173e40cb87071b428b23b79d",
       "version_major": 2,
       "version_minor": 0
      },
      "text/plain": [
       "Validation: |          | 0/? [00:00<?, ?it/s]"
      ]
     },
     "metadata": {},
     "output_type": "display_data"
    },
    {
     "data": {
      "application/vnd.jupyter.widget-view+json": {
       "model_id": "7e310852cbb1491b8f3b5cc1a4a7f660",
       "version_major": 2,
       "version_minor": 0
      },
      "text/plain": [
       "Validation: |          | 0/? [00:00<?, ?it/s]"
      ]
     },
     "metadata": {},
     "output_type": "display_data"
    },
    {
     "data": {
      "application/vnd.jupyter.widget-view+json": {
       "model_id": "b837507171b14eb795bef7d0844f6af8",
       "version_major": 2,
       "version_minor": 0
      },
      "text/plain": [
       "Validation: |          | 0/? [00:00<?, ?it/s]"
      ]
     },
     "metadata": {},
     "output_type": "display_data"
    },
    {
     "data": {
      "application/vnd.jupyter.widget-view+json": {
       "model_id": "ffd7ec154aef45ef869bd9c9d8d75ace",
       "version_major": 2,
       "version_minor": 0
      },
      "text/plain": [
       "Validation: |          | 0/? [00:00<?, ?it/s]"
      ]
     },
     "metadata": {},
     "output_type": "display_data"
    },
    {
     "data": {
      "application/vnd.jupyter.widget-view+json": {
       "model_id": "86af8788f921415e854073e769e2139d",
       "version_major": 2,
       "version_minor": 0
      },
      "text/plain": [
       "Validation: |          | 0/? [00:00<?, ?it/s]"
      ]
     },
     "metadata": {},
     "output_type": "display_data"
    },
    {
     "data": {
      "application/vnd.jupyter.widget-view+json": {
       "model_id": "09a28e4e3f5f4adf8a957f33aaf64c0a",
       "version_major": 2,
       "version_minor": 0
      },
      "text/plain": [
       "Validation: |          | 0/? [00:00<?, ?it/s]"
      ]
     },
     "metadata": {},
     "output_type": "display_data"
    },
    {
     "data": {
      "application/vnd.jupyter.widget-view+json": {
       "model_id": "c127ce230c614dc3a3db1a04da9a5727",
       "version_major": 2,
       "version_minor": 0
      },
      "text/plain": [
       "Validation: |          | 0/? [00:00<?, ?it/s]"
      ]
     },
     "metadata": {},
     "output_type": "display_data"
    },
    {
     "data": {
      "application/vnd.jupyter.widget-view+json": {
       "model_id": "e244dd3152204247b2f00effb0ec55e6",
       "version_major": 2,
       "version_minor": 0
      },
      "text/plain": [
       "Validation: |          | 0/? [00:00<?, ?it/s]"
      ]
     },
     "metadata": {},
     "output_type": "display_data"
    },
    {
     "data": {
      "application/vnd.jupyter.widget-view+json": {
       "model_id": "302fdb9a0c6c4785b1bcdda73cd15e40",
       "version_major": 2,
       "version_minor": 0
      },
      "text/plain": [
       "Validation: |          | 0/? [00:00<?, ?it/s]"
      ]
     },
     "metadata": {},
     "output_type": "display_data"
    },
    {
     "data": {
      "application/vnd.jupyter.widget-view+json": {
       "model_id": "7deece6841c54ab384cdeb592044e3df",
       "version_major": 2,
       "version_minor": 0
      },
      "text/plain": [
       "Validation: |          | 0/? [00:00<?, ?it/s]"
      ]
     },
     "metadata": {},
     "output_type": "display_data"
    },
    {
     "data": {
      "application/vnd.jupyter.widget-view+json": {
       "model_id": "d3dc52a191bc415aa834a7cb6cc4e070",
       "version_major": 2,
       "version_minor": 0
      },
      "text/plain": [
       "Validation: |          | 0/? [00:00<?, ?it/s]"
      ]
     },
     "metadata": {},
     "output_type": "display_data"
    },
    {
     "data": {
      "application/vnd.jupyter.widget-view+json": {
       "model_id": "2abac7e7ece94d6bb3c031ef38d9eef7",
       "version_major": 2,
       "version_minor": 0
      },
      "text/plain": [
       "Validation: |          | 0/? [00:00<?, ?it/s]"
      ]
     },
     "metadata": {},
     "output_type": "display_data"
    },
    {
     "data": {
      "application/vnd.jupyter.widget-view+json": {
       "model_id": "de459cb8cbcc435997abfc3ab0fdb8a3",
       "version_major": 2,
       "version_minor": 0
      },
      "text/plain": [
       "Validation: |          | 0/? [00:00<?, ?it/s]"
      ]
     },
     "metadata": {},
     "output_type": "display_data"
    },
    {
     "data": {
      "application/vnd.jupyter.widget-view+json": {
       "model_id": "7238b033ceb74c3a9fe3a3eafd76c2e9",
       "version_major": 2,
       "version_minor": 0
      },
      "text/plain": [
       "Validation: |          | 0/? [00:00<?, ?it/s]"
      ]
     },
     "metadata": {},
     "output_type": "display_data"
    },
    {
     "data": {
      "application/vnd.jupyter.widget-view+json": {
       "model_id": "9a02b96ac2ef44bb94ad65f417c8620b",
       "version_major": 2,
       "version_minor": 0
      },
      "text/plain": [
       "Validation: |          | 0/? [00:00<?, ?it/s]"
      ]
     },
     "metadata": {},
     "output_type": "display_data"
    },
    {
     "data": {
      "application/vnd.jupyter.widget-view+json": {
       "model_id": "497fb86fd1c94f279f91302556cf04d0",
       "version_major": 2,
       "version_minor": 0
      },
      "text/plain": [
       "Validation: |          | 0/? [00:00<?, ?it/s]"
      ]
     },
     "metadata": {},
     "output_type": "display_data"
    },
    {
     "data": {
      "application/vnd.jupyter.widget-view+json": {
       "model_id": "f290651c757b4231a146fc89c0f2d37c",
       "version_major": 2,
       "version_minor": 0
      },
      "text/plain": [
       "Validation: |          | 0/? [00:00<?, ?it/s]"
      ]
     },
     "metadata": {},
     "output_type": "display_data"
    },
    {
     "data": {
      "application/vnd.jupyter.widget-view+json": {
       "model_id": "19838d81a3af439bbc92a0b7e7b12cf0",
       "version_major": 2,
       "version_minor": 0
      },
      "text/plain": [
       "Validation: |          | 0/? [00:00<?, ?it/s]"
      ]
     },
     "metadata": {},
     "output_type": "display_data"
    },
    {
     "data": {
      "application/vnd.jupyter.widget-view+json": {
       "model_id": "f0bf190f6b0e4bf3898788345fe1fbda",
       "version_major": 2,
       "version_minor": 0
      },
      "text/plain": [
       "Validation: |          | 0/? [00:00<?, ?it/s]"
      ]
     },
     "metadata": {},
     "output_type": "display_data"
    },
    {
     "data": {
      "application/vnd.jupyter.widget-view+json": {
       "model_id": "39b426a027c44ab19925de66536ffa55",
       "version_major": 2,
       "version_minor": 0
      },
      "text/plain": [
       "Validation: |          | 0/? [00:00<?, ?it/s]"
      ]
     },
     "metadata": {},
     "output_type": "display_data"
    },
    {
     "data": {
      "application/vnd.jupyter.widget-view+json": {
       "model_id": "dd084e1b914a47f3af0577c873d36db1",
       "version_major": 2,
       "version_minor": 0
      },
      "text/plain": [
       "Validation: |          | 0/? [00:00<?, ?it/s]"
      ]
     },
     "metadata": {},
     "output_type": "display_data"
    },
    {
     "data": {
      "application/vnd.jupyter.widget-view+json": {
       "model_id": "32e0a79705a64acf9652c987e7248f75",
       "version_major": 2,
       "version_minor": 0
      },
      "text/plain": [
       "Validation: |          | 0/? [00:00<?, ?it/s]"
      ]
     },
     "metadata": {},
     "output_type": "display_data"
    },
    {
     "data": {
      "application/vnd.jupyter.widget-view+json": {
       "model_id": "654609430eab4e31a0b5a0370ff60f47",
       "version_major": 2,
       "version_minor": 0
      },
      "text/plain": [
       "Validation: |          | 0/? [00:00<?, ?it/s]"
      ]
     },
     "metadata": {},
     "output_type": "display_data"
    },
    {
     "data": {
      "application/vnd.jupyter.widget-view+json": {
       "model_id": "62f0ae9d618c455eb8044c00c8085b06",
       "version_major": 2,
       "version_minor": 0
      },
      "text/plain": [
       "Validation: |          | 0/? [00:00<?, ?it/s]"
      ]
     },
     "metadata": {},
     "output_type": "display_data"
    },
    {
     "data": {
      "application/vnd.jupyter.widget-view+json": {
       "model_id": "fa68ab7c4d0541fcb491d1df9f0c0dfb",
       "version_major": 2,
       "version_minor": 0
      },
      "text/plain": [
       "Validation: |          | 0/? [00:00<?, ?it/s]"
      ]
     },
     "metadata": {},
     "output_type": "display_data"
    },
    {
     "data": {
      "application/vnd.jupyter.widget-view+json": {
       "model_id": "d1a5b3a369f947c7912ec69d55b4cb71",
       "version_major": 2,
       "version_minor": 0
      },
      "text/plain": [
       "Validation: |          | 0/? [00:00<?, ?it/s]"
      ]
     },
     "metadata": {},
     "output_type": "display_data"
    },
    {
     "data": {
      "application/vnd.jupyter.widget-view+json": {
       "model_id": "76bbecd72dc2492faf8d8eb253af6b8d",
       "version_major": 2,
       "version_minor": 0
      },
      "text/plain": [
       "Validation: |          | 0/? [00:00<?, ?it/s]"
      ]
     },
     "metadata": {},
     "output_type": "display_data"
    },
    {
     "data": {
      "application/vnd.jupyter.widget-view+json": {
       "model_id": "c1168594a130404fb44a97deb1fad859",
       "version_major": 2,
       "version_minor": 0
      },
      "text/plain": [
       "Validation: |          | 0/? [00:00<?, ?it/s]"
      ]
     },
     "metadata": {},
     "output_type": "display_data"
    },
    {
     "data": {
      "application/vnd.jupyter.widget-view+json": {
       "model_id": "b70b89213f394b97a8d93f058168263c",
       "version_major": 2,
       "version_minor": 0
      },
      "text/plain": [
       "Validation: |          | 0/? [00:00<?, ?it/s]"
      ]
     },
     "metadata": {},
     "output_type": "display_data"
    },
    {
     "data": {
      "application/vnd.jupyter.widget-view+json": {
       "model_id": "cd385682d8594cada7cebfcb978648f3",
       "version_major": 2,
       "version_minor": 0
      },
      "text/plain": [
       "Validation: |          | 0/? [00:00<?, ?it/s]"
      ]
     },
     "metadata": {},
     "output_type": "display_data"
    },
    {
     "data": {
      "application/vnd.jupyter.widget-view+json": {
       "model_id": "4f2556af1a7246beb71d54de15f3cff8",
       "version_major": 2,
       "version_minor": 0
      },
      "text/plain": [
       "Validation: |          | 0/? [00:00<?, ?it/s]"
      ]
     },
     "metadata": {},
     "output_type": "display_data"
    },
    {
     "data": {
      "application/vnd.jupyter.widget-view+json": {
       "model_id": "ee1c7d8783b34d7cb1f63310694f3df3",
       "version_major": 2,
       "version_minor": 0
      },
      "text/plain": [
       "Validation: |          | 0/? [00:00<?, ?it/s]"
      ]
     },
     "metadata": {},
     "output_type": "display_data"
    },
    {
     "data": {
      "application/vnd.jupyter.widget-view+json": {
       "model_id": "f4577822051f4f7fbca60d243ffa42de",
       "version_major": 2,
       "version_minor": 0
      },
      "text/plain": [
       "Validation: |          | 0/? [00:00<?, ?it/s]"
      ]
     },
     "metadata": {},
     "output_type": "display_data"
    },
    {
     "data": {
      "application/vnd.jupyter.widget-view+json": {
       "model_id": "3ea0c1c122824a238525c5931896c572",
       "version_major": 2,
       "version_minor": 0
      },
      "text/plain": [
       "Validation: |          | 0/? [00:00<?, ?it/s]"
      ]
     },
     "metadata": {},
     "output_type": "display_data"
    },
    {
     "data": {
      "application/vnd.jupyter.widget-view+json": {
       "model_id": "104c9ee2b53445deabd67829d3ce4d15",
       "version_major": 2,
       "version_minor": 0
      },
      "text/plain": [
       "Validation: |          | 0/? [00:00<?, ?it/s]"
      ]
     },
     "metadata": {},
     "output_type": "display_data"
    },
    {
     "data": {
      "application/vnd.jupyter.widget-view+json": {
       "model_id": "9cd6dc87ae3f49769af22ad3cb086e5f",
       "version_major": 2,
       "version_minor": 0
      },
      "text/plain": [
       "Validation: |          | 0/? [00:00<?, ?it/s]"
      ]
     },
     "metadata": {},
     "output_type": "display_data"
    },
    {
     "data": {
      "application/vnd.jupyter.widget-view+json": {
       "model_id": "8a4cbaf1fcd84fb49831b4c2ea39d825",
       "version_major": 2,
       "version_minor": 0
      },
      "text/plain": [
       "Validation: |          | 0/? [00:00<?, ?it/s]"
      ]
     },
     "metadata": {},
     "output_type": "display_data"
    },
    {
     "data": {
      "application/vnd.jupyter.widget-view+json": {
       "model_id": "ef743b768ed74fb8b26866d7e49a4b6e",
       "version_major": 2,
       "version_minor": 0
      },
      "text/plain": [
       "Validation: |          | 0/? [00:00<?, ?it/s]"
      ]
     },
     "metadata": {},
     "output_type": "display_data"
    },
    {
     "data": {
      "application/vnd.jupyter.widget-view+json": {
       "model_id": "4e67eb77c4d942e38f0116e8b619192c",
       "version_major": 2,
       "version_minor": 0
      },
      "text/plain": [
       "Validation: |          | 0/? [00:00<?, ?it/s]"
      ]
     },
     "metadata": {},
     "output_type": "display_data"
    },
    {
     "data": {
      "application/vnd.jupyter.widget-view+json": {
       "model_id": "3cfd5e7f4f72439183fc8886d53684c3",
       "version_major": 2,
       "version_minor": 0
      },
      "text/plain": [
       "Validation: |          | 0/? [00:00<?, ?it/s]"
      ]
     },
     "metadata": {},
     "output_type": "display_data"
    },
    {
     "data": {
      "application/vnd.jupyter.widget-view+json": {
       "model_id": "b1d45c50a74142be8cb8c2403205a9af",
       "version_major": 2,
       "version_minor": 0
      },
      "text/plain": [
       "Validation: |          | 0/? [00:00<?, ?it/s]"
      ]
     },
     "metadata": {},
     "output_type": "display_data"
    },
    {
     "data": {
      "application/vnd.jupyter.widget-view+json": {
       "model_id": "0f6c06003b2a45a08609315593b3d5b3",
       "version_major": 2,
       "version_minor": 0
      },
      "text/plain": [
       "Validation: |          | 0/? [00:00<?, ?it/s]"
      ]
     },
     "metadata": {},
     "output_type": "display_data"
    },
    {
     "data": {
      "application/vnd.jupyter.widget-view+json": {
       "model_id": "84397a9bb49449d18127e762f8cd2fe1",
       "version_major": 2,
       "version_minor": 0
      },
      "text/plain": [
       "Validation: |          | 0/? [00:00<?, ?it/s]"
      ]
     },
     "metadata": {},
     "output_type": "display_data"
    },
    {
     "data": {
      "application/vnd.jupyter.widget-view+json": {
       "model_id": "bd16ce7666af4b15bb66498a5edcd26d",
       "version_major": 2,
       "version_minor": 0
      },
      "text/plain": [
       "Validation: |          | 0/? [00:00<?, ?it/s]"
      ]
     },
     "metadata": {},
     "output_type": "display_data"
    },
    {
     "data": {
      "application/vnd.jupyter.widget-view+json": {
       "model_id": "44cbb8af26604cda9e37c1b50e88cca7",
       "version_major": 2,
       "version_minor": 0
      },
      "text/plain": [
       "Validation: |          | 0/? [00:00<?, ?it/s]"
      ]
     },
     "metadata": {},
     "output_type": "display_data"
    },
    {
     "data": {
      "application/vnd.jupyter.widget-view+json": {
       "model_id": "d3d6bf3335094080bfa4ac2801fd8c18",
       "version_major": 2,
       "version_minor": 0
      },
      "text/plain": [
       "Validation: |          | 0/? [00:00<?, ?it/s]"
      ]
     },
     "metadata": {},
     "output_type": "display_data"
    },
    {
     "data": {
      "application/vnd.jupyter.widget-view+json": {
       "model_id": "65c38d65b9dc43a39de14e711f31c643",
       "version_major": 2,
       "version_minor": 0
      },
      "text/plain": [
       "Validation: |          | 0/? [00:00<?, ?it/s]"
      ]
     },
     "metadata": {},
     "output_type": "display_data"
    },
    {
     "data": {
      "application/vnd.jupyter.widget-view+json": {
       "model_id": "ac585941288c47108a382c0eb6cc65da",
       "version_major": 2,
       "version_minor": 0
      },
      "text/plain": [
       "Validation: |          | 0/? [00:00<?, ?it/s]"
      ]
     },
     "metadata": {},
     "output_type": "display_data"
    },
    {
     "data": {
      "application/vnd.jupyter.widget-view+json": {
       "model_id": "c7850a4c018a486d8c33978f8646af2f",
       "version_major": 2,
       "version_minor": 0
      },
      "text/plain": [
       "Validation: |          | 0/? [00:00<?, ?it/s]"
      ]
     },
     "metadata": {},
     "output_type": "display_data"
    },
    {
     "data": {
      "application/vnd.jupyter.widget-view+json": {
       "model_id": "b0df30bc8d5d488c97cd0ddbae064e14",
       "version_major": 2,
       "version_minor": 0
      },
      "text/plain": [
       "Validation: |          | 0/? [00:00<?, ?it/s]"
      ]
     },
     "metadata": {},
     "output_type": "display_data"
    },
    {
     "data": {
      "application/vnd.jupyter.widget-view+json": {
       "model_id": "653c7f5375164d4781015fdc1ab2ce72",
       "version_major": 2,
       "version_minor": 0
      },
      "text/plain": [
       "Validation: |          | 0/? [00:00<?, ?it/s]"
      ]
     },
     "metadata": {},
     "output_type": "display_data"
    },
    {
     "data": {
      "application/vnd.jupyter.widget-view+json": {
       "model_id": "94657481adcc43169879f75aeb780da8",
       "version_major": 2,
       "version_minor": 0
      },
      "text/plain": [
       "Validation: |          | 0/? [00:00<?, ?it/s]"
      ]
     },
     "metadata": {},
     "output_type": "display_data"
    },
    {
     "data": {
      "application/vnd.jupyter.widget-view+json": {
       "model_id": "26d5e0da17284c359b5496e119dcc304",
       "version_major": 2,
       "version_minor": 0
      },
      "text/plain": [
       "Validation: |          | 0/? [00:00<?, ?it/s]"
      ]
     },
     "metadata": {},
     "output_type": "display_data"
    },
    {
     "data": {
      "application/vnd.jupyter.widget-view+json": {
       "model_id": "91d5969629d34a4fbdd18548afc8def9",
       "version_major": 2,
       "version_minor": 0
      },
      "text/plain": [
       "Validation: |          | 0/? [00:00<?, ?it/s]"
      ]
     },
     "metadata": {},
     "output_type": "display_data"
    },
    {
     "data": {
      "application/vnd.jupyter.widget-view+json": {
       "model_id": "d56db1357aee483b8d7db545189b1b9a",
       "version_major": 2,
       "version_minor": 0
      },
      "text/plain": [
       "Validation: |          | 0/? [00:00<?, ?it/s]"
      ]
     },
     "metadata": {},
     "output_type": "display_data"
    },
    {
     "data": {
      "application/vnd.jupyter.widget-view+json": {
       "model_id": "72b2be8eba124fd29909b51390198106",
       "version_major": 2,
       "version_minor": 0
      },
      "text/plain": [
       "Validation: |          | 0/? [00:00<?, ?it/s]"
      ]
     },
     "metadata": {},
     "output_type": "display_data"
    },
    {
     "data": {
      "application/vnd.jupyter.widget-view+json": {
       "model_id": "ac79f089dc994c71b3f57d9de523b77e",
       "version_major": 2,
       "version_minor": 0
      },
      "text/plain": [
       "Validation: |          | 0/? [00:00<?, ?it/s]"
      ]
     },
     "metadata": {},
     "output_type": "display_data"
    },
    {
     "data": {
      "application/vnd.jupyter.widget-view+json": {
       "model_id": "f10c5f30c2584547814d546a450b3039",
       "version_major": 2,
       "version_minor": 0
      },
      "text/plain": [
       "Validation: |          | 0/? [00:00<?, ?it/s]"
      ]
     },
     "metadata": {},
     "output_type": "display_data"
    },
    {
     "data": {
      "application/vnd.jupyter.widget-view+json": {
       "model_id": "797447629cbb4383a1cbae68cf8812f4",
       "version_major": 2,
       "version_minor": 0
      },
      "text/plain": [
       "Validation: |          | 0/? [00:00<?, ?it/s]"
      ]
     },
     "metadata": {},
     "output_type": "display_data"
    },
    {
     "data": {
      "application/vnd.jupyter.widget-view+json": {
       "model_id": "bff376aa4f5743d495d4d3a1d7425d31",
       "version_major": 2,
       "version_minor": 0
      },
      "text/plain": [
       "Validation: |          | 0/? [00:00<?, ?it/s]"
      ]
     },
     "metadata": {},
     "output_type": "display_data"
    },
    {
     "data": {
      "application/vnd.jupyter.widget-view+json": {
       "model_id": "ea99143bc59f4287b132f33d303037a2",
       "version_major": 2,
       "version_minor": 0
      },
      "text/plain": [
       "Validation: |          | 0/? [00:00<?, ?it/s]"
      ]
     },
     "metadata": {},
     "output_type": "display_data"
    },
    {
     "data": {
      "application/vnd.jupyter.widget-view+json": {
       "model_id": "9696843a3c0d43ce89150eed1a36ab40",
       "version_major": 2,
       "version_minor": 0
      },
      "text/plain": [
       "Validation: |          | 0/? [00:00<?, ?it/s]"
      ]
     },
     "metadata": {},
     "output_type": "display_data"
    },
    {
     "data": {
      "application/vnd.jupyter.widget-view+json": {
       "model_id": "9b8ba8cb779b4a778f02b67fd4276057",
       "version_major": 2,
       "version_minor": 0
      },
      "text/plain": [
       "Validation: |          | 0/? [00:00<?, ?it/s]"
      ]
     },
     "metadata": {},
     "output_type": "display_data"
    },
    {
     "data": {
      "application/vnd.jupyter.widget-view+json": {
       "model_id": "f1544a3db2a64b8bba0c240948eb95d2",
       "version_major": 2,
       "version_minor": 0
      },
      "text/plain": [
       "Validation: |          | 0/? [00:00<?, ?it/s]"
      ]
     },
     "metadata": {},
     "output_type": "display_data"
    },
    {
     "data": {
      "application/vnd.jupyter.widget-view+json": {
       "model_id": "2e51908b868a4ae79c7d34d723f1fb94",
       "version_major": 2,
       "version_minor": 0
      },
      "text/plain": [
       "Validation: |          | 0/? [00:00<?, ?it/s]"
      ]
     },
     "metadata": {},
     "output_type": "display_data"
    },
    {
     "data": {
      "application/vnd.jupyter.widget-view+json": {
       "model_id": "1a31824ea33048aa809837ca29484626",
       "version_major": 2,
       "version_minor": 0
      },
      "text/plain": [
       "Validation: |          | 0/? [00:00<?, ?it/s]"
      ]
     },
     "metadata": {},
     "output_type": "display_data"
    },
    {
     "data": {
      "application/vnd.jupyter.widget-view+json": {
       "model_id": "e954555aba27478aacac1a37fa4d445a",
       "version_major": 2,
       "version_minor": 0
      },
      "text/plain": [
       "Validation: |          | 0/? [00:00<?, ?it/s]"
      ]
     },
     "metadata": {},
     "output_type": "display_data"
    },
    {
     "data": {
      "application/vnd.jupyter.widget-view+json": {
       "model_id": "29a4efdd939341f09a8f8baec7557d55",
       "version_major": 2,
       "version_minor": 0
      },
      "text/plain": [
       "Validation: |          | 0/? [00:00<?, ?it/s]"
      ]
     },
     "metadata": {},
     "output_type": "display_data"
    },
    {
     "data": {
      "application/vnd.jupyter.widget-view+json": {
       "model_id": "45e0ecde6bd34505ae5a46f5ffbf4dec",
       "version_major": 2,
       "version_minor": 0
      },
      "text/plain": [
       "Validation: |          | 0/? [00:00<?, ?it/s]"
      ]
     },
     "metadata": {},
     "output_type": "display_data"
    },
    {
     "data": {
      "application/vnd.jupyter.widget-view+json": {
       "model_id": "98f6735b649d4ad5b7141d6b13ea2e66",
       "version_major": 2,
       "version_minor": 0
      },
      "text/plain": [
       "Validation: |          | 0/? [00:00<?, ?it/s]"
      ]
     },
     "metadata": {},
     "output_type": "display_data"
    },
    {
     "data": {
      "application/vnd.jupyter.widget-view+json": {
       "model_id": "a18fd5191e68415ea7d87fdb1f04e3fd",
       "version_major": 2,
       "version_minor": 0
      },
      "text/plain": [
       "Validation: |          | 0/? [00:00<?, ?it/s]"
      ]
     },
     "metadata": {},
     "output_type": "display_data"
    },
    {
     "data": {
      "application/vnd.jupyter.widget-view+json": {
       "model_id": "347a0bae78d944caa0b25bee8afc506d",
       "version_major": 2,
       "version_minor": 0
      },
      "text/plain": [
       "Validation: |          | 0/? [00:00<?, ?it/s]"
      ]
     },
     "metadata": {},
     "output_type": "display_data"
    },
    {
     "data": {
      "application/vnd.jupyter.widget-view+json": {
       "model_id": "4dff3bc8eba149208fc3c2caf7b79844",
       "version_major": 2,
       "version_minor": 0
      },
      "text/plain": [
       "Validation: |          | 0/? [00:00<?, ?it/s]"
      ]
     },
     "metadata": {},
     "output_type": "display_data"
    },
    {
     "data": {
      "application/vnd.jupyter.widget-view+json": {
       "model_id": "1fd3e4394e2842dfbd40a4ac0dd02002",
       "version_major": 2,
       "version_minor": 0
      },
      "text/plain": [
       "Validation: |          | 0/? [00:00<?, ?it/s]"
      ]
     },
     "metadata": {},
     "output_type": "display_data"
    },
    {
     "data": {
      "application/vnd.jupyter.widget-view+json": {
       "model_id": "ac95210019d34545bbcce51c056a22c8",
       "version_major": 2,
       "version_minor": 0
      },
      "text/plain": [
       "Validation: |          | 0/? [00:00<?, ?it/s]"
      ]
     },
     "metadata": {},
     "output_type": "display_data"
    },
    {
     "data": {
      "application/vnd.jupyter.widget-view+json": {
       "model_id": "be25679b703249eda543595846a065ac",
       "version_major": 2,
       "version_minor": 0
      },
      "text/plain": [
       "Validation: |          | 0/? [00:00<?, ?it/s]"
      ]
     },
     "metadata": {},
     "output_type": "display_data"
    },
    {
     "data": {
      "application/vnd.jupyter.widget-view+json": {
       "model_id": "d4d3c3a4f15841d5a04cde034f986c2f",
       "version_major": 2,
       "version_minor": 0
      },
      "text/plain": [
       "Validation: |          | 0/? [00:00<?, ?it/s]"
      ]
     },
     "metadata": {},
     "output_type": "display_data"
    },
    {
     "data": {
      "application/vnd.jupyter.widget-view+json": {
       "model_id": "445e7ed0241e445e9de325189202ee8e",
       "version_major": 2,
       "version_minor": 0
      },
      "text/plain": [
       "Validation: |          | 0/? [00:00<?, ?it/s]"
      ]
     },
     "metadata": {},
     "output_type": "display_data"
    },
    {
     "data": {
      "application/vnd.jupyter.widget-view+json": {
       "model_id": "df9296373b0b4b11a69fe9fa5e61d103",
       "version_major": 2,
       "version_minor": 0
      },
      "text/plain": [
       "Validation: |          | 0/? [00:00<?, ?it/s]"
      ]
     },
     "metadata": {},
     "output_type": "display_data"
    },
    {
     "data": {
      "application/vnd.jupyter.widget-view+json": {
       "model_id": "e3b68a4b3403420bbc0c90b881224e71",
       "version_major": 2,
       "version_minor": 0
      },
      "text/plain": [
       "Validation: |          | 0/? [00:00<?, ?it/s]"
      ]
     },
     "metadata": {},
     "output_type": "display_data"
    },
    {
     "data": {
      "application/vnd.jupyter.widget-view+json": {
       "model_id": "9ff8fede0d474cb5a9c351a409ac0bc3",
       "version_major": 2,
       "version_minor": 0
      },
      "text/plain": [
       "Validation: |          | 0/? [00:00<?, ?it/s]"
      ]
     },
     "metadata": {},
     "output_type": "display_data"
    },
    {
     "data": {
      "application/vnd.jupyter.widget-view+json": {
       "model_id": "51bc9c016b8a4c8c86eaa01ba8e48852",
       "version_major": 2,
       "version_minor": 0
      },
      "text/plain": [
       "Validation: |          | 0/? [00:00<?, ?it/s]"
      ]
     },
     "metadata": {},
     "output_type": "display_data"
    },
    {
     "data": {
      "application/vnd.jupyter.widget-view+json": {
       "model_id": "02900bba295444049f3c03bc88c9b9fa",
       "version_major": 2,
       "version_minor": 0
      },
      "text/plain": [
       "Validation: |          | 0/? [00:00<?, ?it/s]"
      ]
     },
     "metadata": {},
     "output_type": "display_data"
    },
    {
     "data": {
      "application/vnd.jupyter.widget-view+json": {
       "model_id": "46ea8ce8d28c4d4b8a908f72767e5116",
       "version_major": 2,
       "version_minor": 0
      },
      "text/plain": [
       "Validation: |          | 0/? [00:00<?, ?it/s]"
      ]
     },
     "metadata": {},
     "output_type": "display_data"
    },
    {
     "data": {
      "application/vnd.jupyter.widget-view+json": {
       "model_id": "ed8487a23e924198a18a43f23067070d",
       "version_major": 2,
       "version_minor": 0
      },
      "text/plain": [
       "Validation: |          | 0/? [00:00<?, ?it/s]"
      ]
     },
     "metadata": {},
     "output_type": "display_data"
    },
    {
     "data": {
      "application/vnd.jupyter.widget-view+json": {
       "model_id": "4d16e239e7544ea6b50f21c06bca5160",
       "version_major": 2,
       "version_minor": 0
      },
      "text/plain": [
       "Validation: |          | 0/? [00:00<?, ?it/s]"
      ]
     },
     "metadata": {},
     "output_type": "display_data"
    },
    {
     "data": {
      "application/vnd.jupyter.widget-view+json": {
       "model_id": "e09d9dc6d4a844e9a93519537719a225",
       "version_major": 2,
       "version_minor": 0
      },
      "text/plain": [
       "Validation: |          | 0/? [00:00<?, ?it/s]"
      ]
     },
     "metadata": {},
     "output_type": "display_data"
    },
    {
     "data": {
      "application/vnd.jupyter.widget-view+json": {
       "model_id": "595be3b7f4ad4a4087dc6c9c5db09517",
       "version_major": 2,
       "version_minor": 0
      },
      "text/plain": [
       "Validation: |          | 0/? [00:00<?, ?it/s]"
      ]
     },
     "metadata": {},
     "output_type": "display_data"
    },
    {
     "data": {
      "application/vnd.jupyter.widget-view+json": {
       "model_id": "5a8ea6847830401795707eefcdf0051c",
       "version_major": 2,
       "version_minor": 0
      },
      "text/plain": [
       "Validation: |          | 0/? [00:00<?, ?it/s]"
      ]
     },
     "metadata": {},
     "output_type": "display_data"
    },
    {
     "data": {
      "application/vnd.jupyter.widget-view+json": {
       "model_id": "b7ee83ddc88742bcb92e38b474afc866",
       "version_major": 2,
       "version_minor": 0
      },
      "text/plain": [
       "Validation: |          | 0/? [00:00<?, ?it/s]"
      ]
     },
     "metadata": {},
     "output_type": "display_data"
    },
    {
     "data": {
      "application/vnd.jupyter.widget-view+json": {
       "model_id": "5091db295dc94ee1b558ac80046300c6",
       "version_major": 2,
       "version_minor": 0
      },
      "text/plain": [
       "Validation: |          | 0/? [00:00<?, ?it/s]"
      ]
     },
     "metadata": {},
     "output_type": "display_data"
    },
    {
     "data": {
      "application/vnd.jupyter.widget-view+json": {
       "model_id": "f05822556f6c4c13b4fcc0fffb2e1a71",
       "version_major": 2,
       "version_minor": 0
      },
      "text/plain": [
       "Validation: |          | 0/? [00:00<?, ?it/s]"
      ]
     },
     "metadata": {},
     "output_type": "display_data"
    },
    {
     "data": {
      "application/vnd.jupyter.widget-view+json": {
       "model_id": "8a7a46ff030c48e8ba83fad61716c839",
       "version_major": 2,
       "version_minor": 0
      },
      "text/plain": [
       "Validation: |          | 0/? [00:00<?, ?it/s]"
      ]
     },
     "metadata": {},
     "output_type": "display_data"
    },
    {
     "data": {
      "application/vnd.jupyter.widget-view+json": {
       "model_id": "7bbc9c5076f14296b4ac7a1344198407",
       "version_major": 2,
       "version_minor": 0
      },
      "text/plain": [
       "Validation: |          | 0/? [00:00<?, ?it/s]"
      ]
     },
     "metadata": {},
     "output_type": "display_data"
    },
    {
     "data": {
      "application/vnd.jupyter.widget-view+json": {
       "model_id": "990722494e974a49bd33e21d96efa85c",
       "version_major": 2,
       "version_minor": 0
      },
      "text/plain": [
       "Validation: |          | 0/? [00:00<?, ?it/s]"
      ]
     },
     "metadata": {},
     "output_type": "display_data"
    },
    {
     "data": {
      "application/vnd.jupyter.widget-view+json": {
       "model_id": "a6a50bc837294ab2b5d3e20c75c49d00",
       "version_major": 2,
       "version_minor": 0
      },
      "text/plain": [
       "Validation: |          | 0/? [00:00<?, ?it/s]"
      ]
     },
     "metadata": {},
     "output_type": "display_data"
    },
    {
     "data": {
      "application/vnd.jupyter.widget-view+json": {
       "model_id": "1a0ff6d96c714cd484ca449d5c5a6d90",
       "version_major": 2,
       "version_minor": 0
      },
      "text/plain": [
       "Validation: |          | 0/? [00:00<?, ?it/s]"
      ]
     },
     "metadata": {},
     "output_type": "display_data"
    },
    {
     "data": {
      "application/vnd.jupyter.widget-view+json": {
       "model_id": "b404a4c9c33b47debc413a54612b62a0",
       "version_major": 2,
       "version_minor": 0
      },
      "text/plain": [
       "Validation: |          | 0/? [00:00<?, ?it/s]"
      ]
     },
     "metadata": {},
     "output_type": "display_data"
    },
    {
     "data": {
      "application/vnd.jupyter.widget-view+json": {
       "model_id": "5b3aeff04976457da424efd82d1a8dff",
       "version_major": 2,
       "version_minor": 0
      },
      "text/plain": [
       "Validation: |          | 0/? [00:00<?, ?it/s]"
      ]
     },
     "metadata": {},
     "output_type": "display_data"
    },
    {
     "data": {
      "application/vnd.jupyter.widget-view+json": {
       "model_id": "816e9d9fcc274cf291dd679e83ab0e65",
       "version_major": 2,
       "version_minor": 0
      },
      "text/plain": [
       "Validation: |          | 0/? [00:00<?, ?it/s]"
      ]
     },
     "metadata": {},
     "output_type": "display_data"
    },
    {
     "data": {
      "application/vnd.jupyter.widget-view+json": {
       "model_id": "fe5b10ec03894df69d436ba3cd84c59f",
       "version_major": 2,
       "version_minor": 0
      },
      "text/plain": [
       "Validation: |          | 0/? [00:00<?, ?it/s]"
      ]
     },
     "metadata": {},
     "output_type": "display_data"
    },
    {
     "data": {
      "application/vnd.jupyter.widget-view+json": {
       "model_id": "9bdfd56dfbab4279a9856d30535db904",
       "version_major": 2,
       "version_minor": 0
      },
      "text/plain": [
       "Validation: |          | 0/? [00:00<?, ?it/s]"
      ]
     },
     "metadata": {},
     "output_type": "display_data"
    },
    {
     "data": {
      "application/vnd.jupyter.widget-view+json": {
       "model_id": "4da2d78a99cd4c53b7ea655454c75799",
       "version_major": 2,
       "version_minor": 0
      },
      "text/plain": [
       "Validation: |          | 0/? [00:00<?, ?it/s]"
      ]
     },
     "metadata": {},
     "output_type": "display_data"
    },
    {
     "data": {
      "application/vnd.jupyter.widget-view+json": {
       "model_id": "e1a557d433f94ca39ced0363fa8c095b",
       "version_major": 2,
       "version_minor": 0
      },
      "text/plain": [
       "Validation: |          | 0/? [00:00<?, ?it/s]"
      ]
     },
     "metadata": {},
     "output_type": "display_data"
    },
    {
     "data": {
      "application/vnd.jupyter.widget-view+json": {
       "model_id": "9f2b8a2e4ace44c1bceb44c264aff51d",
       "version_major": 2,
       "version_minor": 0
      },
      "text/plain": [
       "Validation: |          | 0/? [00:00<?, ?it/s]"
      ]
     },
     "metadata": {},
     "output_type": "display_data"
    },
    {
     "data": {
      "application/vnd.jupyter.widget-view+json": {
       "model_id": "d72126af5d4b4ab189e92513d7457535",
       "version_major": 2,
       "version_minor": 0
      },
      "text/plain": [
       "Validation: |          | 0/? [00:00<?, ?it/s]"
      ]
     },
     "metadata": {},
     "output_type": "display_data"
    },
    {
     "data": {
      "application/vnd.jupyter.widget-view+json": {
       "model_id": "e76165c93a604ad2b0cb8c137536d357",
       "version_major": 2,
       "version_minor": 0
      },
      "text/plain": [
       "Validation: |          | 0/? [00:00<?, ?it/s]"
      ]
     },
     "metadata": {},
     "output_type": "display_data"
    },
    {
     "data": {
      "application/vnd.jupyter.widget-view+json": {
       "model_id": "9008ac0e99ba48d0b182800acb3904a4",
       "version_major": 2,
       "version_minor": 0
      },
      "text/plain": [
       "Validation: |          | 0/? [00:00<?, ?it/s]"
      ]
     },
     "metadata": {},
     "output_type": "display_data"
    },
    {
     "data": {
      "application/vnd.jupyter.widget-view+json": {
       "model_id": "66cbd681edcf410eb96c4964ae120b09",
       "version_major": 2,
       "version_minor": 0
      },
      "text/plain": [
       "Validation: |          | 0/? [00:00<?, ?it/s]"
      ]
     },
     "metadata": {},
     "output_type": "display_data"
    },
    {
     "data": {
      "application/vnd.jupyter.widget-view+json": {
       "model_id": "427464cfdd7242fdbcc16a96f0caf181",
       "version_major": 2,
       "version_minor": 0
      },
      "text/plain": [
       "Validation: |          | 0/? [00:00<?, ?it/s]"
      ]
     },
     "metadata": {},
     "output_type": "display_data"
    },
    {
     "data": {
      "application/vnd.jupyter.widget-view+json": {
       "model_id": "f2d30daf114e42a493b207f932f97a63",
       "version_major": 2,
       "version_minor": 0
      },
      "text/plain": [
       "Validation: |          | 0/? [00:00<?, ?it/s]"
      ]
     },
     "metadata": {},
     "output_type": "display_data"
    },
    {
     "data": {
      "application/vnd.jupyter.widget-view+json": {
       "model_id": "8de315845d504ad7883e070c41db6e9b",
       "version_major": 2,
       "version_minor": 0
      },
      "text/plain": [
       "Validation: |          | 0/? [00:00<?, ?it/s]"
      ]
     },
     "metadata": {},
     "output_type": "display_data"
    },
    {
     "data": {
      "application/vnd.jupyter.widget-view+json": {
       "model_id": "6bd9d790ac014ddaad58b039a18327b7",
       "version_major": 2,
       "version_minor": 0
      },
      "text/plain": [
       "Validation: |          | 0/? [00:00<?, ?it/s]"
      ]
     },
     "metadata": {},
     "output_type": "display_data"
    },
    {
     "data": {
      "application/vnd.jupyter.widget-view+json": {
       "model_id": "414daec451dd4d59b91cc87df41d8ffe",
       "version_major": 2,
       "version_minor": 0
      },
      "text/plain": [
       "Validation: |          | 0/? [00:00<?, ?it/s]"
      ]
     },
     "metadata": {},
     "output_type": "display_data"
    },
    {
     "data": {
      "application/vnd.jupyter.widget-view+json": {
       "model_id": "aa0ed35f32884767ae9860f4d5b028e4",
       "version_major": 2,
       "version_minor": 0
      },
      "text/plain": [
       "Validation: |          | 0/? [00:00<?, ?it/s]"
      ]
     },
     "metadata": {},
     "output_type": "display_data"
    },
    {
     "data": {
      "application/vnd.jupyter.widget-view+json": {
       "model_id": "93c4fc7140834474aaf5cd058a9e2d03",
       "version_major": 2,
       "version_minor": 0
      },
      "text/plain": [
       "Validation: |          | 0/? [00:00<?, ?it/s]"
      ]
     },
     "metadata": {},
     "output_type": "display_data"
    },
    {
     "data": {
      "application/vnd.jupyter.widget-view+json": {
       "model_id": "f2926867697e4f3ab06b6ff4edf96527",
       "version_major": 2,
       "version_minor": 0
      },
      "text/plain": [
       "Validation: |          | 0/? [00:00<?, ?it/s]"
      ]
     },
     "metadata": {},
     "output_type": "display_data"
    },
    {
     "data": {
      "application/vnd.jupyter.widget-view+json": {
       "model_id": "3af8a74793084dc281a5bf05b0ceecab",
       "version_major": 2,
       "version_minor": 0
      },
      "text/plain": [
       "Validation: |          | 0/? [00:00<?, ?it/s]"
      ]
     },
     "metadata": {},
     "output_type": "display_data"
    },
    {
     "data": {
      "application/vnd.jupyter.widget-view+json": {
       "model_id": "e05e94cf51674c5ca2a8fd282d691101",
       "version_major": 2,
       "version_minor": 0
      },
      "text/plain": [
       "Validation: |          | 0/? [00:00<?, ?it/s]"
      ]
     },
     "metadata": {},
     "output_type": "display_data"
    },
    {
     "data": {
      "application/vnd.jupyter.widget-view+json": {
       "model_id": "69f8e4ce96444d2ca014303fd73fabc2",
       "version_major": 2,
       "version_minor": 0
      },
      "text/plain": [
       "Validation: |          | 0/? [00:00<?, ?it/s]"
      ]
     },
     "metadata": {},
     "output_type": "display_data"
    },
    {
     "data": {
      "application/vnd.jupyter.widget-view+json": {
       "model_id": "3eb3a056b8564d5e911c28621d070ec6",
       "version_major": 2,
       "version_minor": 0
      },
      "text/plain": [
       "Validation: |          | 0/? [00:00<?, ?it/s]"
      ]
     },
     "metadata": {},
     "output_type": "display_data"
    },
    {
     "data": {
      "application/vnd.jupyter.widget-view+json": {
       "model_id": "048516cbd876450784b76cd4c35326c4",
       "version_major": 2,
       "version_minor": 0
      },
      "text/plain": [
       "Validation: |          | 0/? [00:00<?, ?it/s]"
      ]
     },
     "metadata": {},
     "output_type": "display_data"
    },
    {
     "data": {
      "application/vnd.jupyter.widget-view+json": {
       "model_id": "ded9d4826b03476fa29dd4f8c3d69295",
       "version_major": 2,
       "version_minor": 0
      },
      "text/plain": [
       "Validation: |          | 0/? [00:00<?, ?it/s]"
      ]
     },
     "metadata": {},
     "output_type": "display_data"
    },
    {
     "data": {
      "application/vnd.jupyter.widget-view+json": {
       "model_id": "440db69edfc04d639c052d4fe7d4bceb",
       "version_major": 2,
       "version_minor": 0
      },
      "text/plain": [
       "Validation: |          | 0/? [00:00<?, ?it/s]"
      ]
     },
     "metadata": {},
     "output_type": "display_data"
    },
    {
     "data": {
      "application/vnd.jupyter.widget-view+json": {
       "model_id": "fe4b1768013c4720b7c131a4bdf3a410",
       "version_major": 2,
       "version_minor": 0
      },
      "text/plain": [
       "Validation: |          | 0/? [00:00<?, ?it/s]"
      ]
     },
     "metadata": {},
     "output_type": "display_data"
    },
    {
     "data": {
      "application/vnd.jupyter.widget-view+json": {
       "model_id": "1f1ebff86d7748469d4923b0fa917d4b",
       "version_major": 2,
       "version_minor": 0
      },
      "text/plain": [
       "Validation: |          | 0/? [00:00<?, ?it/s]"
      ]
     },
     "metadata": {},
     "output_type": "display_data"
    },
    {
     "data": {
      "application/vnd.jupyter.widget-view+json": {
       "model_id": "915e527b234548ee8fc735c8200a301e",
       "version_major": 2,
       "version_minor": 0
      },
      "text/plain": [
       "Validation: |          | 0/? [00:00<?, ?it/s]"
      ]
     },
     "metadata": {},
     "output_type": "display_data"
    },
    {
     "data": {
      "application/vnd.jupyter.widget-view+json": {
       "model_id": "ec5fdeb7a2784c8b9edea329c6e4b77e",
       "version_major": 2,
       "version_minor": 0
      },
      "text/plain": [
       "Validation: |          | 0/? [00:00<?, ?it/s]"
      ]
     },
     "metadata": {},
     "output_type": "display_data"
    },
    {
     "data": {
      "application/vnd.jupyter.widget-view+json": {
       "model_id": "dfb759d8c1b24110a87827c9c9bb3e3a",
       "version_major": 2,
       "version_minor": 0
      },
      "text/plain": [
       "Validation: |          | 0/? [00:00<?, ?it/s]"
      ]
     },
     "metadata": {},
     "output_type": "display_data"
    },
    {
     "data": {
      "application/vnd.jupyter.widget-view+json": {
       "model_id": "f8e3f75392074bfbbfbc18ed6f72b8e5",
       "version_major": 2,
       "version_minor": 0
      },
      "text/plain": [
       "Validation: |          | 0/? [00:00<?, ?it/s]"
      ]
     },
     "metadata": {},
     "output_type": "display_data"
    },
    {
     "data": {
      "application/vnd.jupyter.widget-view+json": {
       "model_id": "aa21107f1d87489595695c0c2181cb4c",
       "version_major": 2,
       "version_minor": 0
      },
      "text/plain": [
       "Validation: |          | 0/? [00:00<?, ?it/s]"
      ]
     },
     "metadata": {},
     "output_type": "display_data"
    },
    {
     "data": {
      "application/vnd.jupyter.widget-view+json": {
       "model_id": "ac24fef0183a4c7ca7592496cc155d10",
       "version_major": 2,
       "version_minor": 0
      },
      "text/plain": [
       "Validation: |          | 0/? [00:00<?, ?it/s]"
      ]
     },
     "metadata": {},
     "output_type": "display_data"
    },
    {
     "data": {
      "application/vnd.jupyter.widget-view+json": {
       "model_id": "6035653c7af8459ba3144d66e2f403fd",
       "version_major": 2,
       "version_minor": 0
      },
      "text/plain": [
       "Validation: |          | 0/? [00:00<?, ?it/s]"
      ]
     },
     "metadata": {},
     "output_type": "display_data"
    },
    {
     "data": {
      "application/vnd.jupyter.widget-view+json": {
       "model_id": "967a17a34435462d9495cf9b89681967",
       "version_major": 2,
       "version_minor": 0
      },
      "text/plain": [
       "Validation: |          | 0/? [00:00<?, ?it/s]"
      ]
     },
     "metadata": {},
     "output_type": "display_data"
    },
    {
     "data": {
      "application/vnd.jupyter.widget-view+json": {
       "model_id": "c8e1959fb8e3414b90476a7286eb1124",
       "version_major": 2,
       "version_minor": 0
      },
      "text/plain": [
       "Validation: |          | 0/? [00:00<?, ?it/s]"
      ]
     },
     "metadata": {},
     "output_type": "display_data"
    },
    {
     "data": {
      "application/vnd.jupyter.widget-view+json": {
       "model_id": "9f16c19b6f454623b3536aaf8dad21a2",
       "version_major": 2,
       "version_minor": 0
      },
      "text/plain": [
       "Validation: |          | 0/? [00:00<?, ?it/s]"
      ]
     },
     "metadata": {},
     "output_type": "display_data"
    },
    {
     "data": {
      "application/vnd.jupyter.widget-view+json": {
       "model_id": "3e5f3046acff4ac2834e970823c919e5",
       "version_major": 2,
       "version_minor": 0
      },
      "text/plain": [
       "Validation: |          | 0/? [00:00<?, ?it/s]"
      ]
     },
     "metadata": {},
     "output_type": "display_data"
    },
    {
     "data": {
      "application/vnd.jupyter.widget-view+json": {
       "model_id": "2ed1c95ce6bd4f47aeb6c6368954164a",
       "version_major": 2,
       "version_minor": 0
      },
      "text/plain": [
       "Validation: |          | 0/? [00:00<?, ?it/s]"
      ]
     },
     "metadata": {},
     "output_type": "display_data"
    },
    {
     "data": {
      "application/vnd.jupyter.widget-view+json": {
       "model_id": "ee08376282a441a28f94058b15467e95",
       "version_major": 2,
       "version_minor": 0
      },
      "text/plain": [
       "Validation: |          | 0/? [00:00<?, ?it/s]"
      ]
     },
     "metadata": {},
     "output_type": "display_data"
    },
    {
     "data": {
      "application/vnd.jupyter.widget-view+json": {
       "model_id": "a9c636e94f29429ab9512361f9e10fba",
       "version_major": 2,
       "version_minor": 0
      },
      "text/plain": [
       "Validation: |          | 0/? [00:00<?, ?it/s]"
      ]
     },
     "metadata": {},
     "output_type": "display_data"
    },
    {
     "data": {
      "application/vnd.jupyter.widget-view+json": {
       "model_id": "6d850190c9144a68a954bb6ca80b8b7a",
       "version_major": 2,
       "version_minor": 0
      },
      "text/plain": [
       "Validation: |          | 0/? [00:00<?, ?it/s]"
      ]
     },
     "metadata": {},
     "output_type": "display_data"
    },
    {
     "data": {
      "application/vnd.jupyter.widget-view+json": {
       "model_id": "868da780af0143ccaff41953da8ab3f3",
       "version_major": 2,
       "version_minor": 0
      },
      "text/plain": [
       "Validation: |          | 0/? [00:00<?, ?it/s]"
      ]
     },
     "metadata": {},
     "output_type": "display_data"
    },
    {
     "data": {
      "application/vnd.jupyter.widget-view+json": {
       "model_id": "d092a3068e8c4877b0e16daf1ea6c28f",
       "version_major": 2,
       "version_minor": 0
      },
      "text/plain": [
       "Validation: |          | 0/? [00:00<?, ?it/s]"
      ]
     },
     "metadata": {},
     "output_type": "display_data"
    },
    {
     "name": "stderr",
     "output_type": "stream",
     "text": [
      "`Trainer.fit` stopped: `max_epochs=300` reached.\n",
      "LOCAL_RANK: 0 - CUDA_VISIBLE_DEVICES: [0]\n"
     ]
    },
    {
     "data": {
      "application/vnd.jupyter.widget-view+json": {
       "model_id": "935eb7112b394241816c7e9d150e5f92",
       "version_major": 2,
       "version_minor": 0
      },
      "text/plain": [
       "Testing: |          | 0/? [00:00<?, ?it/s]"
      ]
     },
     "metadata": {},
     "output_type": "display_data"
    },
    {
     "data": {
      "text/html": [
       "<pre style=\"white-space:pre;overflow-x:auto;line-height:normal;font-family:Menlo,'DejaVu Sans Mono',consolas,'Courier New',monospace\">┏━━━━━━━━━━━━━━━━━━━━━━━━━━━┳━━━━━━━━━━━━━━━━━━━━━━━━━━━┓\n",
       "┃<span style=\"font-weight: bold\">        Test metric        </span>┃<span style=\"font-weight: bold\">       DataLoader 0        </span>┃\n",
       "┡━━━━━━━━━━━━━━━━━━━━━━━━━━━╇━━━━━━━━━━━━━━━━━━━━━━━━━━━┩\n",
       "│<span style=\"color: #008080; text-decoration-color: #008080\">         test_acc          </span>│<span style=\"color: #800080; text-decoration-color: #800080\">    0.05000000074505806    </span>│\n",
       "│<span style=\"color: #008080; text-decoration-color: #008080\"> test_classification_loss  </span>│<span style=\"color: #800080; text-decoration-color: #800080\">    3.6771798133850098     </span>│\n",
       "│<span style=\"color: #008080; text-decoration-color: #008080\">          test_f1          </span>│<span style=\"color: #800080; text-decoration-color: #800080\">    0.05000000074505806    </span>│\n",
       "│<span style=\"color: #008080; text-decoration-color: #008080\">       test_kl_loss        </span>│<span style=\"color: #800080; text-decoration-color: #800080\">    1.6278178691864014     </span>│\n",
       "│<span style=\"color: #008080; text-decoration-color: #008080\">         test_loss         </span>│<span style=\"color: #800080; text-decoration-color: #800080\">     3.693458080291748     </span>│\n",
       "└───────────────────────────┴───────────────────────────┘\n",
       "</pre>\n"
      ],
      "text/plain": [
       "┏━━━━━━━━━━━━━━━━━━━━━━━━━━━┳━━━━━━━━━━━━━━━━━━━━━━━━━━━┓\n",
       "┃\u001b[1m \u001b[0m\u001b[1m       Test metric       \u001b[0m\u001b[1m \u001b[0m┃\u001b[1m \u001b[0m\u001b[1m      DataLoader 0       \u001b[0m\u001b[1m \u001b[0m┃\n",
       "┡━━━━━━━━━━━━━━━━━━━━━━━━━━━╇━━━━━━━━━━━━━━━━━━━━━━━━━━━┩\n",
       "│\u001b[36m \u001b[0m\u001b[36m        test_acc         \u001b[0m\u001b[36m \u001b[0m│\u001b[35m \u001b[0m\u001b[35m   0.05000000074505806   \u001b[0m\u001b[35m \u001b[0m│\n",
       "│\u001b[36m \u001b[0m\u001b[36mtest_classification_loss \u001b[0m\u001b[36m \u001b[0m│\u001b[35m \u001b[0m\u001b[35m   3.6771798133850098    \u001b[0m\u001b[35m \u001b[0m│\n",
       "│\u001b[36m \u001b[0m\u001b[36m         test_f1         \u001b[0m\u001b[36m \u001b[0m│\u001b[35m \u001b[0m\u001b[35m   0.05000000074505806   \u001b[0m\u001b[35m \u001b[0m│\n",
       "│\u001b[36m \u001b[0m\u001b[36m      test_kl_loss       \u001b[0m\u001b[36m \u001b[0m│\u001b[35m \u001b[0m\u001b[35m   1.6278178691864014    \u001b[0m\u001b[35m \u001b[0m│\n",
       "│\u001b[36m \u001b[0m\u001b[36m        test_loss        \u001b[0m\u001b[36m \u001b[0m│\u001b[35m \u001b[0m\u001b[35m    3.693458080291748    \u001b[0m\u001b[35m \u001b[0m│\n",
       "└───────────────────────────┴───────────────────────────┘\n"
      ]
     },
     "metadata": {},
     "output_type": "display_data"
    },
    {
     "data": {
      "text/plain": [
       "[{'test_acc': 0.05000000074505806,\n",
       "  'test_f1': 0.05000000074505806,\n",
       "  'test_loss': 3.693458080291748,\n",
       "  'test_classification_loss': 3.6771798133850098,\n",
       "  'test_kl_loss': 1.6278178691864014}]"
      ]
     },
     "execution_count": 26,
     "metadata": {},
     "output_type": "execute_result"
    }
   ],
   "source": [
    "from pytorch_lightning import Trainer\n",
    "from pytorch_lightning.callbacks import (\n",
    "    ModelCheckpoint,\n",
    "    EarlyStopping,\n",
    "    LearningRateMonitor\n",
    ")\n",
    "import wandb\n",
    "from pytorch_lightning.loggers import WandbLogger\n",
    "\n",
    "# # Setup callbacks\n",
    "# callbacks = [\n",
    "#     ModelCheckpoint(\n",
    "#         monitor='val_loss',\n",
    "#         dirpath='checkpoints',\n",
    "#         filename='gig-{epoch:02d}-{val_loss:.2f}',\n",
    "#         save_top_k=3,\n",
    "#         mode='min',\n",
    "#     ),\n",
    "#     EarlyStopping(\n",
    "#         monitor='val_loss',\n",
    "#         min_delta=0.1,\n",
    "#         patience=10,\n",
    "#         mode='min',\n",
    "#         verbose=True\n",
    "#     ),\n",
    "#     LearningRateMonitor(logging_interval='epoch')\n",
    "# ]\n",
    "\n",
    "# Setup logger\n",
    "wandb_logger = WandbLogger(project=\"gig-model\")\n",
    "\n",
    "config = {\n",
    "    \"input_dim\": 64,\n",
    "    \"hidden_dim\": 512,     \n",
    "    \"embedding_dim\": 512,   \n",
    "    \"latent_dim\": 16,      \n",
    "    \"gnn_hidden_dim\": 64,  \n",
    "    \"num_classes\": len(unique_true_gene_ids),\n",
    "    \"gene_embedding_dim\": 32,\n",
    "    \n",
    "    \"conv_type\": \"Graph\",\n",
    "    \"gnn_layers\": 5,\n",
    "    \"dropout\": 0.3,        \n",
    "    \"lr\": 0.0001,            \n",
    "    \"optimizer_lr\": 0.001,\n",
    "    \"lr_theta_temp\": 0.001,  \n",
    "    \"alpha\": 0.01,     \n",
    "   \n",
    "    \"loss\": \"CrossEntropyLoss\",\n",
    "    \"scheduler\": \"ReduceLROnPlateau\",\n",
    "    \"weight_decay\": 1e-3   # Added weight decay\n",
    "}\n",
    "\n",
    "\n",
    "model = GiGTrainer(config)\n",
    "\n",
    "trainer = Trainer(\n",
    "    max_epochs=300,\n",
    "    accelerator='gpu',\n",
    "    devices='auto',\n",
    "    # callbacks=callbacks,\n",
    "    logger=wandb_logger,\n",
    "    deterministic=False,\n",
    "    benchmark=True\n",
    ")\n",
    "\n",
    "trainer.fit(model, train_loader, val_loader)\n",
    "trainer.test(model, test_loader)"
   ]
  }
 ],
 "metadata": {
  "kernelspec": {
   "display_name": "base",
   "language": "python",
   "name": "python3"
  },
  "language_info": {
   "codemirror_mode": {
    "name": "ipython",
    "version": 3
   },
   "file_extension": ".py",
   "mimetype": "text/x-python",
   "name": "python",
   "nbconvert_exporter": "python",
   "pygments_lexer": "ipython3",
   "version": "3.11.7"
  }
 },
 "nbformat": 4,
 "nbformat_minor": 2
}
